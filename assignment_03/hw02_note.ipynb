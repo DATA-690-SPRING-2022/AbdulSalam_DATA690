{
  "nbformat": 4,
  "nbformat_minor": 0,
  "metadata": {
    "colab": {
      "name": "hw02_note.ipynb",
      "provenance": [],
      "collapsed_sections": [],
      "authorship_tag": "ABX9TyO6OmqgzOuu+uF2R++THzN5",
      "include_colab_link": true
    },
    "kernelspec": {
      "name": "python3",
      "display_name": "Python 3"
    },
    "language_info": {
      "name": "python"
    }
  },
  "cells": [
    {
      "cell_type": "markdown",
      "metadata": {
        "id": "view-in-github",
        "colab_type": "text"
      },
      "source": [
        "<a href=\"https://colab.research.google.com/github/abdulSalamKagaji97/AbdulSalam_DATA690/blob/main/assignment_03/hw02_note.ipynb\" target=\"_parent\"><img src=\"https://colab.research.google.com/assets/colab-badge.svg\" alt=\"Open In Colab\"/></a>"
      ]
    },
    {
      "cell_type": "code",
      "execution_count": 2,
      "metadata": {
        "id": "yY5Gh4IZ9ds8"
      },
      "outputs": [],
      "source": [
        "def min_max(integers,mode):\n",
        "  if mode == \"min\":\n",
        "    min = integers[0]\n",
        "    for x in integers:\n",
        "      if min > x:\n",
        "        min = x\n",
        "    return min\n",
        "  if mode == \"max\":\n",
        "    max = integers[0]\n",
        "    for x in integers:\n",
        "      if max < x:\n",
        "        max = x\n",
        "    return max\n",
        "\n",
        "    "
      ]
    },
    {
      "cell_type": "code",
      "source": [
        "min_max([1,2,3,4,5,6],\"min\")"
      ],
      "metadata": {
        "colab": {
          "base_uri": "https://localhost:8080/"
        },
        "id": "KYNQhdStAe1P",
        "outputId": "17dd60cd-1613-48ae-e27b-f19c508a2d8d"
      },
      "execution_count": 3,
      "outputs": [
        {
          "output_type": "execute_result",
          "data": {
            "text/plain": [
              "1"
            ]
          },
          "metadata": {},
          "execution_count": 3
        }
      ]
    },
    {
      "cell_type": "code",
      "source": [
        "min_max([1,2,3,4,5,6],\"max\")"
      ],
      "metadata": {
        "colab": {
          "base_uri": "https://localhost:8080/"
        },
        "id": "o1_lLDxWAiL7",
        "outputId": "bd2f0a75-f7bb-4631-fad0-d7b3a537c0b3"
      },
      "execution_count": 4,
      "outputs": [
        {
          "output_type": "execute_result",
          "data": {
            "text/plain": [
              "6"
            ]
          },
          "metadata": {},
          "execution_count": 4
        }
      ]
    },
    {
      "cell_type": "code",
      "source": [
        "def min(integers):\n",
        "  min = integers[0]\n",
        "  for x in integers:\n",
        "    if min > x:\n",
        "      min = x\n",
        "  return min"
      ],
      "metadata": {
        "id": "wAJSzY_0AoFI"
      },
      "execution_count": null,
      "outputs": []
    },
    {
      "cell_type": "code",
      "source": [
        "def max(integers):\n",
        "  max = integers[0]\n",
        "  for x in integers:\n",
        "    if max < x:\n",
        "      max = x\n",
        "  return max\n",
        "  "
      ],
      "metadata": {
        "id": "UKZkNRm0Azk8"
      },
      "execution_count": null,
      "outputs": []
    },
    {
      "cell_type": "code",
      "source": [
        "min([1,2,3])"
      ],
      "metadata": {
        "colab": {
          "base_uri": "https://localhost:8080/"
        },
        "id": "0s8WxldzA2-V",
        "outputId": "218bfcf9-0453-4938-bf59-8af75d047298"
      },
      "execution_count": 5,
      "outputs": [
        {
          "output_type": "execute_result",
          "data": {
            "text/plain": [
              "1"
            ]
          },
          "metadata": {},
          "execution_count": 5
        }
      ]
    },
    {
      "cell_type": "code",
      "source": [
        "max([2,3,4])"
      ],
      "metadata": {
        "colab": {
          "base_uri": "https://localhost:8080/"
        },
        "id": "bmcmubzAA5b9",
        "outputId": "2c82fde8-e91b-4a78-f2cc-f650e1ea6571"
      },
      "execution_count": 6,
      "outputs": [
        {
          "output_type": "execute_result",
          "data": {
            "text/plain": [
              "4"
            ]
          },
          "metadata": {},
          "execution_count": 6
        }
      ]
    },
    {
      "cell_type": "code",
      "source": [
        ""
      ],
      "metadata": {
        "id": "Id5E_0xqA8AG"
      },
      "execution_count": null,
      "outputs": []
    }
  ]
}