{
  "nbformat": 4,
  "nbformat_minor": 0,
  "metadata": {
    "colab": {
      "name": "assignment_03.ipynb",
      "provenance": [],
      "collapsed_sections": [],
      "authorship_tag": "ABX9TyOiE4zypH0cht2k+qttCGuv",
      "include_colab_link": true
    },
    "kernelspec": {
      "name": "python3",
      "display_name": "Python 3"
    },
    "language_info": {
      "name": "python"
    }
  },
  "cells": [
    {
      "cell_type": "markdown",
      "metadata": {
        "id": "view-in-github",
        "colab_type": "text"
      },
      "source": [
        "<a href=\"https://colab.research.google.com/github/abdulSalamKagaji97/AbdulSalam_DATA690/blob/main/assignment_03/assignment_03.ipynb\" target=\"_parent\"><img src=\"https://colab.research.google.com/assets/colab-badge.svg\" alt=\"Open In Colab\"/></a>"
      ]
    },
    {
      "cell_type": "markdown",
      "source": [
        "# Assignment 03\n",
        "- Name: **Abdul Salam Kagaji**\n",
        "- Date: **02/18/2022**\n",
        "\n",
        "## Objective\n",
        "This assignment is intended to Print patterns with numbers"
      ],
      "metadata": {
        "id": "6G-Dix1lgHGf"
      }
    },
    {
      "cell_type": "markdown",
      "source": [
        "## Importing Dependencies"
      ],
      "metadata": {
        "id": "p2vspck6gtRh"
      }
    },
    {
      "cell_type": "code",
      "source": [
        "import random"
      ],
      "metadata": {
        "id": "cZiSKRq-g5tx"
      },
      "execution_count": 1,
      "outputs": []
    },
    {
      "cell_type": "markdown",
      "source": [
        "## Pattern-1 \n",
        "A 10x10 matrix of random numbers from 0 to 9\n",
        "\n",
        "  "
      ],
      "metadata": {
        "id": "rcaOD1rugSKq"
      }
    },
    {
      "cell_type": "code",
      "execution_count": 2,
      "metadata": {
        "colab": {
          "base_uri": "https://localhost:8080/"
        },
        "id": "KZaSvaGbgFtB",
        "outputId": "58510053-6ed6-417d-9cb6-3622d7fac55b"
      },
      "outputs": [
        {
          "output_type": "stream",
          "name": "stdout",
          "text": [
            "4 0 1 4 7 4 0 5 4 8 \n",
            "3 7 7 5 2 4 1 5 2 5 \n",
            "9 9 7 8 4 2 7 4 3 8 \n",
            "2 4 0 1 1 0 5 3 1 6 \n",
            "1 1 1 7 3 5 1 0 1 6 \n",
            "7 5 2 6 1 1 0 6 9 8 \n",
            "4 6 9 9 6 9 9 7 8 0 \n",
            "2 7 8 3 7 2 4 2 9 0 \n",
            "4 6 6 8 5 7 4 1 2 5 \n",
            "5 2 9 2 6 5 2 8 7 0 \n"
          ]
        }
      ],
      "source": [
        "# printing below pattern\n",
        "'''\n",
        "5 1 5 6 2 7 8 6 4 2 \n",
        "2 3 7 0 6 9 2 4 2 8 \n",
        "0 0 8 6 4 1 7 2 7 6 \n",
        "0 1 9 0 0 8 5 8 6 8 \n",
        "4 1 0 5 5 7 4 6 4 4 \n",
        "6 0 2 0 1 9 8 2 3 9 \n",
        "4 0 4 8 1 7 6 6 2 1 \n",
        "1 7 6 8 5 4 1 9 6 7 \n",
        "6 4 7 9 9 3 8 2 6 1 \n",
        "9 0 6 4 0 1 0 6 9 9 \n",
        "'''\n",
        "\n",
        "for row in range(10):\n",
        "  for col in range(10):\n",
        "    print(random.randint(0,9),end=\" \") \n",
        "  print()"
      ]
    },
    {
      "cell_type": "markdown",
      "source": [
        "## Pattern-2 \n",
        "A 10x10 matrix of random numbers from 0 to 9 and '@' in place of odd numbers\n"
      ],
      "metadata": {
        "id": "Fp-hbEHChrwW"
      }
    },
    {
      "cell_type": "code",
      "source": [
        "# printing below pattern\n",
        "'''\n",
        "@ @ 0 2 6 @ 8 8 0 0 \n",
        "@ 4 @ 4 4 @ 2 @ 2 2 \n",
        "@ 6 8 @ @ @ 0 @ 0 @ \n",
        "2 6 @ 0 @ 2 @ @ 0 @ \n",
        "8 4 @ @ @ 0 @ @ 6 @ \n",
        "@ @ 4 6 @ @ @ 2 @ 2 \n",
        "@ @ @ @ 4 @ @ 2 2 0 \n",
        "@ 6 @ 0 0 8 @ 2 0 @ \n",
        "8 8 @ @ @ 0 0 @ 4 6 \n",
        "@ 2 2 6 8 2 @ @ @ 6\n",
        "'''\n",
        "\n",
        "for row in range(10):\n",
        "  for col in range(10):\n",
        "    randInt = random.randint(0,9)\n",
        "    if not randInt % 2 == 0:\n",
        "      print(\"@\", end = \" \")\n",
        "    else:\n",
        "      print(randInt,end = \" \")\n",
        "  print()"
      ],
      "metadata": {
        "colab": {
          "base_uri": "https://localhost:8080/"
        },
        "id": "uwCY1f5ghXcb",
        "outputId": "5c6bbee5-2ed9-4c9a-e741-09ba10a90877"
      },
      "execution_count": 3,
      "outputs": [
        {
          "output_type": "stream",
          "name": "stdout",
          "text": [
            "@ 6 6 2 6 @ 4 8 0 4 \n",
            "@ @ @ 2 6 2 @ 0 @ 8 \n",
            "0 @ @ @ 6 @ 8 @ 2 @ \n",
            "2 2 0 0 @ @ @ @ 2 @ \n",
            "@ @ @ @ @ @ @ 2 4 0 \n",
            "@ 8 @ 6 @ @ @ 6 @ 0 \n",
            "@ @ @ @ @ 8 0 @ 6 @ \n",
            "@ @ @ 6 @ @ 6 @ 0 @ \n",
            "8 @ 8 8 @ 2 @ 6 4 0 \n",
            "@ 4 @ @ @ 4 4 @ 2 @ \n"
          ]
        }
      ]
    },
    {
      "cell_type": "markdown",
      "source": [
        "## Pattern-3 \n",
        "A 10x10 matrix of random numbers for m0 to 9 and Print the total of each row like the following, using \"*\" to separate the total from the numbers\n"
      ],
      "metadata": {
        "id": "yyDSUEA-iZAS"
      }
    },
    {
      "cell_type": "code",
      "source": [
        "# printing below pattern\n",
        "'''\n",
        "7 6 5 8 8 0 7 6 0 1 * 48 \n",
        "8 5 7 9 8 0 9 3 0 1 * 50 \n",
        "4 0 3 5 3 9 0 8 3 9 * 44 \n",
        "3 5 5 3 8 3 4 3 2 2 * 38 \n",
        "7 7 4 1 2 7 2 3 0 8 * 41 \n",
        "3 9 7 7 0 9 4 0 6 5 * 50 \n",
        "1 9 7 1 3 0 0 1 4 5 * 31 \n",
        "4 4 0 6 7 4 5 6 9 3 * 48 \n",
        "2 1 1 4 2 0 1 2 9 2 * 24\n",
        "2 1 6 7 7 8 1 0 0 4 * 36\n",
        "'''\n",
        "\n",
        "for row in range(10):\n",
        "  sum = 0\n",
        "  for col in range(10):\n",
        "    randInt = random.randint(0,9)\n",
        "    print(randInt, end = \" \") \n",
        "    sum += randInt\n",
        "  print(\"* \",sum,end = \" \")\n",
        "  print()"
      ],
      "metadata": {
        "colab": {
          "base_uri": "https://localhost:8080/"
        },
        "id": "FisnRJLDiM4R",
        "outputId": "e1f560a0-bccb-40f8-de96-5c5eab0c58a5"
      },
      "execution_count": 4,
      "outputs": [
        {
          "output_type": "stream",
          "name": "stdout",
          "text": [
            "5 9 8 5 2 9 1 2 5 3 *  49 \n",
            "9 9 3 4 6 5 3 0 8 6 *  53 \n",
            "2 1 3 7 7 7 8 0 9 3 *  47 \n",
            "1 9 8 6 1 5 0 6 8 1 *  45 \n",
            "1 3 0 7 8 6 4 2 3 2 *  36 \n",
            "7 3 5 3 9 2 3 2 2 9 *  45 \n",
            "6 4 3 5 8 6 9 1 0 0 *  42 \n",
            "6 4 5 9 1 1 2 5 3 1 *  37 \n",
            "4 2 5 1 7 1 6 4 5 7 *  42 \n",
            "0 0 8 2 0 9 2 8 9 5 *  43 \n"
          ]
        }
      ]
    },
    {
      "cell_type": "markdown",
      "source": [
        "## Pattern-4 \n",
        "A 10x10 matrix of random numbers from 0 to 9,Surround the matrix with asterisks (*) like the following:\n"
      ],
      "metadata": {
        "id": "zQBbu9u8jMTk"
      }
    },
    {
      "cell_type": "code",
      "source": [
        "# printing below pattern\n",
        "'''\n",
        "***********************\n",
        "* 5 1 5 6 2 7 8 6 4 2 *\n",
        "* 2 3 7 0 6 9 2 4 2 8 *\n",
        "* 0 0 8 6 4 1 7 2 7 6 *\n",
        "* 0 1 9 0 0 8 5 8 6 8 *\n",
        "* 4 1 0 5 5 7 4 6 4 4 *\n",
        "* 6 0 2 0 1 9 8 2 3 9 *\n",
        "* 4 0 4 8 1 7 6 6 2 1 *\n",
        "* 1 7 6 8 5 4 1 9 6 7 *\n",
        "* 6 4 7 9 9 3 8 2 6 1 *\n",
        "* 9 0 6 4 0 1 0 6 9 9 *\n",
        "***********************\n",
        "'''\n",
        "\n",
        "\n",
        "for row in range(12):\n",
        "  if row in [0,11]:\n",
        "    print(\"*\" * 23, end = \"\")\n",
        "  else:\n",
        "    for col in range(12):\n",
        "      if col in [0,11]:\n",
        "        print(\"*\" , end = \" \")\n",
        "      else:\n",
        "        print(random.randint(0,9),end=\" \") \n",
        "  print()"
      ],
      "metadata": {
        "colab": {
          "base_uri": "https://localhost:8080/"
        },
        "id": "FDnhBntnjEEq",
        "outputId": "c117b11b-83d5-4473-ba1e-0780ca1698b0"
      },
      "execution_count": 5,
      "outputs": [
        {
          "output_type": "stream",
          "name": "stdout",
          "text": [
            "***********************\n",
            "* 3 0 7 5 1 3 5 1 6 2 * \n",
            "* 4 7 1 6 7 0 4 7 7 4 * \n",
            "* 0 4 6 6 4 1 4 5 0 7 * \n",
            "* 6 8 8 4 7 4 4 5 4 7 * \n",
            "* 9 1 0 1 5 4 2 5 1 8 * \n",
            "* 8 5 3 1 3 2 6 8 5 3 * \n",
            "* 4 3 8 8 9 9 5 3 5 3 * \n",
            "* 7 6 2 7 1 5 5 9 7 1 * \n",
            "* 5 1 7 6 7 5 8 0 4 6 * \n",
            "* 8 2 6 2 0 3 1 2 5 2 * \n",
            "***********************\n"
          ]
        }
      ]
    },
    {
      "cell_type": "markdown",
      "source": [
        "## Pattern-5 \n",
        "A 10x10 matrix of random numbers from 0 to 9 and Calculate and Print the total of each row & column like the following:\n",
        "\n"
      ],
      "metadata": {
        "id": "dvQswCj7lYlE"
      }
    },
    {
      "cell_type": "code",
      "source": [
        "# printing below pattern\n",
        "'''\n",
        "6  8  0  2  3  4  2  2  4  4  * 35 \n",
        "3  7  5  8  9  7  4  8  6  0  * 57 \n",
        "4  7  7  4  3  8  2  1  7  0  * 43 \n",
        "7  8  1  3  0  8  4  7  9  2  * 49 \n",
        "0  0  2  4  5  6  6  7  1  4  * 35 \n",
        "3  7  0  0  7  3  3  2  1  6  * 32 \n",
        "2  5  6  6  5  6  5  5  4  7  * 51 \n",
        "9  2  7  5  5  9  2  4  7  9  * 59 \n",
        "0  0  4  7  6  3  9  6  6  7  * 48 \n",
        "0  1  6  5  2  7  4  1  6  4  * 36 \n",
        "*  *  *  *  *  *  *  *  *  *  \n",
        "34 45 38 44 45 61 41 43 51 43 \n",
        "'''\n",
        "\n",
        "dic = {}\n",
        "for x in range(10):\n",
        "  dic[x] = list()\n",
        "# print(dic)\n",
        "for row in range(12):\n",
        "  if row == 10: # checking for the last but one row to print stars\n",
        "    print(\"*  \"*10,end = \" \")\n",
        "  elif row == 11:  # checking for the last row to print column totals\n",
        "    for x in dic.keys():\n",
        "      sum = 0\n",
        "      for integer in dic[x]:\n",
        "        sum += integer\n",
        "      print(sum,end = ' ')\n",
        "  else:\n",
        "    sum = 0\n",
        "    for col in range(10):\n",
        "      randInt = random.randint(0,9)\n",
        "      dic[col].append(randInt)\n",
        "      print(randInt, end = \"  \") \n",
        "      sum += randInt\n",
        "    print(\"* \",sum,end = \"  \")\n",
        "  print()\n",
        "\n",
        "  \n",
        "\n"
      ],
      "metadata": {
        "colab": {
          "base_uri": "https://localhost:8080/"
        },
        "id": "TiXBXuAZk264",
        "outputId": "b2f23c03-cde2-43bd-db49-f0ff2f484fdc"
      },
      "execution_count": 7,
      "outputs": [
        {
          "output_type": "stream",
          "name": "stdout",
          "text": [
            "8  2  8  6  5  6  9  5  0  7  *  56  \n",
            "5  8  0  4  7  1  1  2  1  6  *  35  \n",
            "2  4  7  7  4  0  0  5  2  8  *  39  \n",
            "3  8  6  2  3  7  9  9  8  6  *  61  \n",
            "6  1  9  1  2  0  6  3  8  9  *  45  \n",
            "6  9  4  1  3  4  6  2  1  0  *  36  \n",
            "3  7  9  8  4  4  8  8  8  1  *  60  \n",
            "6  3  4  4  1  0  1  9  0  9  *  37  \n",
            "2  6  1  2  0  4  6  8  2  3  *  34  \n",
            "3  4  5  8  7  9  8  3  4  3  *  54  \n",
            "*  *  *  *  *  *  *  *  *  *   \n",
            "44 52 53 43 36 35 54 54 34 52 \n"
          ]
        }
      ]
    },
    {
      "cell_type": "code",
      "source": [
        ""
      ],
      "metadata": {
        "id": "E7nLGFuZpY1q"
      },
      "execution_count": 6,
      "outputs": []
    }
  ]
}