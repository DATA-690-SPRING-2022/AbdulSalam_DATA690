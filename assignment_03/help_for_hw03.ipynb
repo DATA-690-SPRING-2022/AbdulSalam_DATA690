{
  "nbformat": 4,
  "nbformat_minor": 0,
  "metadata": {
    "colab": {
      "name": "help_for_hw03.ipynb",
      "provenance": [],
      "include_colab_link": true
    },
    "kernelspec": {
      "name": "python3",
      "display_name": "Python 3"
    },
    "language_info": {
      "name": "python"
    }
  },
  "cells": [
    {
      "cell_type": "markdown",
      "metadata": {
        "id": "view-in-github",
        "colab_type": "text"
      },
      "source": [
        "<a href=\"https://colab.research.google.com/github/abdulSalamKagaji97/AbdulSalam_DATA690/blob/main/assignment_03/help_for_hw03.ipynb\" target=\"_parent\"><img src=\"https://colab.research.google.com/assets/colab-badge.svg\" alt=\"Open In Colab\"/></a>"
      ]
    },
    {
      "cell_type": "markdown",
      "source": [
        "# Assignment 03 In Class Practice\n",
        "\n",
        "This is an example for using Pandas for data processing and Plotly.\n",
        "\n",
        "- Name: Abdul Salam Kagaji\n",
        "- Data: 02/14/22"
      ],
      "metadata": {
        "id": "hAi9QhiU4UxQ"
      }
    },
    {
      "cell_type": "code",
      "source": [
        "import random"
      ],
      "metadata": {
        "id": "tpEeoq4V3fi8"
      },
      "execution_count": null,
      "outputs": []
    },
    {
      "cell_type": "code",
      "execution_count": null,
      "metadata": {
        "colab": {
          "base_uri": "https://localhost:8080/"
        },
        "id": "ZUkjtovbyvAI",
        "outputId": "e3dcbb85-8a6e-456b-ca32-41463a5eb869"
      },
      "outputs": [
        {
          "output_type": "execute_result",
          "data": {
            "text/plain": [
              "[1, 2, 'abdul']"
            ]
          },
          "metadata": {},
          "execution_count": 11
        }
      ],
      "source": [
        "x = [1,2,'abdul']\n",
        "x"
      ]
    },
    {
      "cell_type": "code",
      "source": [
        "for a in x:\n",
        "  print(a)"
      ],
      "metadata": {
        "colab": {
          "base_uri": "https://localhost:8080/"
        },
        "id": "LJSxYSpg3JPu",
        "outputId": "19538b2b-13de-4424-b166-5c36e47fdd94"
      },
      "execution_count": null,
      "outputs": [
        {
          "output_type": "stream",
          "name": "stdout",
          "text": [
            "1\n",
            "2\n",
            "abdul\n"
          ]
        }
      ]
    },
    {
      "cell_type": "code",
      "source": [
        "for a in x:\n",
        "  print(a,end=\" \")"
      ],
      "metadata": {
        "colab": {
          "base_uri": "https://localhost:8080/"
        },
        "id": "WY5rSNzC3W2G",
        "outputId": "0135d976-bb15-4cf0-9dc4-ded9fda43920"
      },
      "execution_count": null,
      "outputs": [
        {
          "output_type": "stream",
          "name": "stdout",
          "text": [
            "1 2 abdul "
          ]
        }
      ]
    },
    {
      "cell_type": "code",
      "source": [
        "\n",
        "for x in range(10):\n",
        "  for y in range(10):\n",
        "    print(random.randint(0,9),end=\" \")\n",
        "  print()"
      ],
      "metadata": {
        "colab": {
          "base_uri": "https://localhost:8080/"
        },
        "id": "b0WwzKI20Jb5",
        "outputId": "c4965870-9665-4502-d133-4631ce7d9102"
      },
      "execution_count": null,
      "outputs": [
        {
          "output_type": "stream",
          "name": "stdout",
          "text": [
            "3 0 7 1 0 0 4 0 5 0 \n",
            "8 2 4 4 1 0 8 3 4 9 \n",
            "9 7 6 9 9 6 6 1 1 9 \n",
            "1 6 7 0 9 2 7 9 9 5 \n",
            "1 3 3 7 2 1 6 8 5 2 \n",
            "6 3 5 5 1 9 5 0 8 1 \n",
            "9 3 6 0 1 8 0 0 9 3 \n",
            "2 3 1 9 2 4 6 5 6 8 \n",
            "3 3 0 2 5 0 2 4 1 7 \n",
            "8 4 4 2 6 8 9 8 2 0 \n"
          ]
        }
      ]
    },
    {
      "cell_type": "code",
      "source": [
        ""
      ],
      "metadata": {
        "id": "D4LDNINC1Wte"
      },
      "execution_count": null,
      "outputs": []
    }
  ]
}