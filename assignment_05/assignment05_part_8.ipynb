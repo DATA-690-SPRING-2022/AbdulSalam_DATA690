{
  "cells": [
    {
      "cell_type": "markdown",
      "metadata": {
        "id": "view-in-github",
        "colab_type": "text"
      },
      "source": [
        "<a href=\"https://colab.research.google.com/github/abdulSalamKagaji97/AbdulSalam_DATA690/blob/main/assignment_05/assignment05_part_8.ipynb\" target=\"_parent\"><img src=\"https://colab.research.google.com/assets/colab-badge.svg\" alt=\"Open In Colab\"/></a>"
      ]
    },
    {
      "cell_type": "markdown",
      "metadata": {
        "id": "_cWRA16AXX_k"
      },
      "source": [
        "# Assignment 05 part 8\n",
        "\n",
        "\n",
        "### Python Recap\n",
        "\n",
        "\n",
        "- Name: Abdul Salam Kagaji\n",
        "- Date: 03/04/2022\n",
        "\n"
      ]
    },
    {
      "cell_type": "code",
      "execution_count": 1,
      "metadata": {
        "id": "6luMoiQxXX_y"
      },
      "outputs": [],
      "source": [
        "def add_numbers(x, y):\n",
        "    return x + y"
      ]
    },
    {
      "cell_type": "markdown",
      "metadata": {
        "id": "qSzKrRUDXX_0"
      },
      "source": [
        "An `if-else` block in Javascript:\n",
        "\n",
        "```javascript\n",
        "let language = \"Python\"\n",
        "\n",
        "if (language === \"Python\"){\n",
        "    console.log(\"Let the fun begin\");\n",
        "} else {\n",
        "    console.log(\"You sure?\");\n",
        "}\n",
        "```\n",
        "\n",
        "In Python:"
      ]
    },
    {
      "cell_type": "code",
      "execution_count": 2,
      "metadata": {
        "colab": {
          "base_uri": "https://localhost:8080/"
        },
        "id": "nTEAmXxRXX_1",
        "outputId": "15248e61-b2fd-421e-bd72-acb0d28188e2"
      },
      "outputs": [
        {
          "output_type": "stream",
          "name": "stdout",
          "text": [
            "Let the fun begin!\n"
          ]
        }
      ],
      "source": [
        "# try changing \"Python\" to something else.\n",
        "# Don't remove the quotes.\n",
        "language = \"Python\"\n",
        "\n",
        "if language == \"Python\":\n",
        "    print(\"Let the fun begin!\")\n",
        "else:\n",
        "    print(\"You sure?\")"
      ]
    },
    {
      "cell_type": "markdown",
      "metadata": {
        "id": "zB8HYdk_XX_2"
      },
      "source": [
        "\n",
        "\n",
        "### Comments\n"
      ]
    },
    {
      "cell_type": "code",
      "execution_count": 3,
      "metadata": {
        "id": "IXjXStmJXX_3"
      },
      "outputs": [],
      "source": [
        "# this is a comment"
      ]
    },
    {
      "cell_type": "code",
      "execution_count": 4,
      "metadata": {
        "id": "qkR1uGtDXX_4"
      },
      "outputs": [],
      "source": [
        "# it doesn't produce any output"
      ]
    },
    {
      "cell_type": "code",
      "execution_count": 5,
      "metadata": {
        "colab": {
          "base_uri": "https://localhost:8080/"
        },
        "id": "0LhOZfpiXX_6",
        "outputId": "854bb9ed-680b-4211-e795-ff64930fdf38"
      },
      "outputs": [
        {
          "output_type": "stream",
          "name": "stdout",
          "text": [
            "Hello World\n"
          ]
        }
      ],
      "source": [
        "# can be above...\n",
        "print(\"Hello World\")  # next to...\n",
        "# or below your code"
      ]
    },
    {
      "cell_type": "markdown",
      "metadata": {
        "id": "iAKvDJIgXX_7"
      },
      "source": [
        "\n",
        "\n",
        "### Variables\n"
      ]
    },
    {
      "cell_type": "code",
      "execution_count": 6,
      "metadata": {
        "colab": {
          "base_uri": "https://localhost:8080/"
        },
        "id": "ZQh6KB-uXX_8",
        "outputId": "ed736210-39df-4a47-cbde-25bf2845712e"
      },
      "outputs": [
        {
          "output_type": "stream",
          "name": "stdout",
          "text": [
            "Mary\n"
          ]
        }
      ],
      "source": [
        "name = \"Mary\"\n",
        "print(name)"
      ]
    },
    {
      "cell_type": "code",
      "execution_count": 7,
      "metadata": {
        "colab": {
          "base_uri": "https://localhost:8080/"
        },
        "id": "2JulSsKAXX_9",
        "outputId": "8b917d14-0be9-4f6b-839a-c8f0581f3614"
      },
      "outputs": [
        {
          "output_type": "stream",
          "name": "stdout",
          "text": [
            "30\n"
          ]
        }
      ],
      "source": [
        "age = 30\n",
        "print(age)"
      ]
    },
    {
      "cell_type": "markdown",
      "metadata": {
        "id": "YNTRMNSeXX_-"
      },
      "source": [
        "Variables, once set, will be preserved:"
      ]
    },
    {
      "cell_type": "code",
      "execution_count": 8,
      "metadata": {
        "colab": {
          "base_uri": "https://localhost:8080/"
        },
        "id": "G1ystoCeXX__",
        "outputId": "accd8e39-6e6d-4dab-da54-489f56fa85fb"
      },
      "outputs": [
        {
          "output_type": "stream",
          "name": "stdout",
          "text": [
            "Mary is 30 years old\n"
          ]
        }
      ],
      "source": [
        "print(name, \"is\", age, \"years old\")"
      ]
    },
    {
      "cell_type": "markdown",
      "metadata": {
        "id": "fvuqwFqeXYAA"
      },
      "source": [
        "\n",
        "\n",
        "### Data Types\n",
        "\n",
        "\n",
        "#### Integers, type `int`:"
      ]
    },
    {
      "cell_type": "code",
      "execution_count": 9,
      "metadata": {
        "id": "11vO4d1PXYAA"
      },
      "outputs": [],
      "source": [
        "# an int\n",
        "age = 30"
      ]
    },
    {
      "cell_type": "code",
      "execution_count": 10,
      "metadata": {
        "colab": {
          "base_uri": "https://localhost:8080/"
        },
        "id": "O66l6IpNXYAB",
        "outputId": "b4a1ebcc-5e36-45f4-f8cd-f0ec61065640"
      },
      "outputs": [
        {
          "output_type": "execute_result",
          "data": {
            "text/plain": [
              "30"
            ]
          },
          "metadata": {},
          "execution_count": 10
        }
      ],
      "source": [
        "age"
      ]
    },
    {
      "cell_type": "code",
      "execution_count": 11,
      "metadata": {
        "colab": {
          "base_uri": "https://localhost:8080/"
        },
        "id": "Zp2gKM8CXYAC",
        "outputId": "a737e325-b44d-4732-8a34-37f92d70d9b0"
      },
      "outputs": [
        {
          "output_type": "execute_result",
          "data": {
            "text/plain": [
              "int"
            ]
          },
          "metadata": {},
          "execution_count": 11
        }
      ],
      "source": [
        "type(age)"
      ]
    },
    {
      "cell_type": "markdown",
      "metadata": {
        "id": "UQZcOwzbXYAD"
      },
      "source": [
        "#### Floats, type `float`:\n"
      ]
    },
    {
      "cell_type": "code",
      "execution_count": 12,
      "metadata": {
        "id": "LtgjpwutXYAD"
      },
      "outputs": [],
      "source": [
        "# a float\n",
        "price = 2.50"
      ]
    },
    {
      "cell_type": "code",
      "execution_count": 13,
      "metadata": {
        "colab": {
          "base_uri": "https://localhost:8080/"
        },
        "id": "6cVBfQChXYAE",
        "outputId": "4ef6125b-25c8-4f7a-c62f-0304235c2459"
      },
      "outputs": [
        {
          "output_type": "execute_result",
          "data": {
            "text/plain": [
              "2.5"
            ]
          },
          "metadata": {},
          "execution_count": 13
        }
      ],
      "source": [
        "price"
      ]
    },
    {
      "cell_type": "code",
      "execution_count": 14,
      "metadata": {
        "colab": {
          "base_uri": "https://localhost:8080/"
        },
        "id": "79XBCgw_XYAF",
        "outputId": "ddcbe089-5b2a-4907-fff2-a1ff68caa189"
      },
      "outputs": [
        {
          "output_type": "execute_result",
          "data": {
            "text/plain": [
              "float"
            ]
          },
          "metadata": {},
          "execution_count": 14
        }
      ],
      "source": [
        "type(price)"
      ]
    },
    {
      "cell_type": "markdown",
      "metadata": {
        "id": "r3PzD0LfXYAH"
      },
      "source": [
        "If you need decimal fixed point precision, you can use the [`decimal`](https://docs.python.org/3/library/decimal.html#module-decimal) module:"
      ]
    },
    {
      "cell_type": "code",
      "execution_count": 15,
      "metadata": {
        "id": "rFiR0pynXYAH"
      },
      "outputs": [],
      "source": [
        "from decimal import Decimal"
      ]
    },
    {
      "cell_type": "code",
      "execution_count": 16,
      "metadata": {
        "colab": {
          "base_uri": "https://localhost:8080/"
        },
        "id": "9kBSslqtXYAI",
        "outputId": "24d8d8cb-f176-40da-ab5e-ec76aaaa2bce"
      },
      "outputs": [
        {
          "output_type": "execute_result",
          "data": {
            "text/plain": [
              "Decimal('0.3')"
            ]
          },
          "metadata": {},
          "execution_count": 16
        }
      ],
      "source": [
        "Decimal('0.1') * 3"
      ]
    },
    {
      "cell_type": "markdown",
      "metadata": {
        "id": "2cv4QYS1XYAI"
      },
      "source": [
        "#### Strings, type `str`\n",
        "\n"
      ]
    },
    {
      "cell_type": "code",
      "execution_count": 17,
      "metadata": {
        "colab": {
          "base_uri": "https://localhost:8080/"
        },
        "id": "InCkWSTmXYAJ",
        "outputId": "61d03376-6745-4ca9-d9fd-f1b2b2d20e30"
      },
      "outputs": [
        {
          "output_type": "stream",
          "name": "stdout",
          "text": [
            "Hello unicode 👋\n"
          ]
        }
      ],
      "source": [
        "# Create them with double quotes:\n",
        "print(\"Hello unicode 👋\")"
      ]
    },
    {
      "cell_type": "code",
      "execution_count": 18,
      "metadata": {
        "colab": {
          "base_uri": "https://localhost:8080/"
        },
        "id": "2ubJCSlCXYAJ",
        "outputId": "4b54eda2-a7a1-4d2f-8de3-b619de267003"
      },
      "outputs": [
        {
          "output_type": "stream",
          "name": "stdout",
          "text": [
            "Omelette Du Fromage 🧀\n"
          ]
        }
      ],
      "source": [
        "# single quotes:\n",
        "print('Omelette Du Fromage 🧀')"
      ]
    },
    {
      "cell_type": "code",
      "execution_count": 19,
      "metadata": {
        "colab": {
          "base_uri": "https://localhost:8080/"
        },
        "id": "OMlAfL6xXYAK",
        "outputId": "af2a76d7-541c-4a24-c5b6-282d01555b97"
      },
      "outputs": [
        {
          "output_type": "execute_result",
          "data": {
            "text/plain": [
              "str"
            ]
          },
          "metadata": {},
          "execution_count": 19
        }
      ],
      "source": [
        "type('Hello World')"
      ]
    },
    {
      "cell_type": "code",
      "execution_count": 20,
      "metadata": {
        "colab": {
          "base_uri": "https://localhost:8080/"
        },
        "id": "Q0yVRF6DXYAK",
        "outputId": "62d1b3f2-13d0-42d1-f912-9818410e7818"
      },
      "outputs": [
        {
          "output_type": "execute_result",
          "data": {
            "text/plain": [
              "5"
            ]
          },
          "metadata": {},
          "execution_count": 20
        }
      ],
      "source": [
        "len(\"Hello\")"
      ]
    },
    {
      "cell_type": "code",
      "execution_count": 21,
      "metadata": {
        "colab": {
          "base_uri": "https://localhost:8080/"
        },
        "id": "ZO6DlRHvXYAL",
        "outputId": "a95bcd10-93c5-4547-b0ff-5129a481cc02"
      },
      "outputs": [
        {
          "output_type": "stream",
          "name": "stdout",
          "text": [
            "\n",
            "Me: What’s the best thing about Switzerland?\n",
            "Friend: I don't know. What?\n",
            "Me: I don’t know, but the flag is a big plus.\n",
            "F: 😒\n",
            "\n"
          ]
        }
      ],
      "source": [
        "joke = \"\"\"\n",
        "Me: What’s the best thing about Switzerland?\n",
        "Friend: I don't know. What?\n",
        "Me: I don’t know, but the flag is a big plus.\n",
        "F: 😒\n",
        "\"\"\"\n",
        "\n",
        "print(joke)"
      ]
    },
    {
      "cell_type": "markdown",
      "metadata": {
        "id": "b32IsZoeXYAM"
      },
      "source": [
        "#### Booleans, type `bool`\n",
        "\n"
      ]
    },
    {
      "cell_type": "code",
      "execution_count": 22,
      "metadata": {
        "colab": {
          "base_uri": "https://localhost:8080/"
        },
        "id": "Y3x6e50sXYAM",
        "outputId": "467bbc20-8180-4be9-dc11-9f8520a9752e"
      },
      "outputs": [
        {
          "output_type": "execute_result",
          "data": {
            "text/plain": [
              "True"
            ]
          },
          "metadata": {},
          "execution_count": 22
        }
      ],
      "source": [
        "True"
      ]
    },
    {
      "cell_type": "code",
      "execution_count": 23,
      "metadata": {
        "colab": {
          "base_uri": "https://localhost:8080/"
        },
        "id": "_PGqYPzPXYAN",
        "outputId": "8b7707e8-e728-48d1-a046-14f4827989a6"
      },
      "outputs": [
        {
          "output_type": "execute_result",
          "data": {
            "text/plain": [
              "bool"
            ]
          },
          "metadata": {},
          "execution_count": 23
        }
      ],
      "source": [
        "type(False)"
      ]
    },
    {
      "cell_type": "markdown",
      "metadata": {
        "id": "dw6IrBI7XYAO"
      },
      "source": [
        "#### None, type `NoneType`\n"
      ]
    },
    {
      "cell_type": "code",
      "execution_count": 24,
      "metadata": {
        "id": "od-jDX4_XYAO"
      },
      "outputs": [],
      "source": [
        "x = None"
      ]
    },
    {
      "cell_type": "code",
      "execution_count": 25,
      "metadata": {
        "id": "C0POaMuAXYAP"
      },
      "outputs": [],
      "source": [
        "x"
      ]
    },
    {
      "cell_type": "code",
      "execution_count": 26,
      "metadata": {
        "colab": {
          "base_uri": "https://localhost:8080/"
        },
        "id": "YFEBdMcPXYAP",
        "outputId": "30cf24c9-e988-4628-8ced-21b87cc9b29a"
      },
      "outputs": [
        {
          "output_type": "stream",
          "name": "stdout",
          "text": [
            "None\n"
          ]
        }
      ],
      "source": [
        "print(x)"
      ]
    },
    {
      "cell_type": "code",
      "execution_count": 27,
      "metadata": {
        "colab": {
          "base_uri": "https://localhost:8080/"
        },
        "id": "fVf8YAKPXYAQ",
        "outputId": "c61c65d9-cdef-4c0b-a2dd-175fe1f13932"
      },
      "outputs": [
        {
          "output_type": "execute_result",
          "data": {
            "text/plain": [
              "NoneType"
            ]
          },
          "metadata": {},
          "execution_count": 27
        }
      ],
      "source": [
        "type(None)"
      ]
    },
    {
      "cell_type": "markdown",
      "metadata": {
        "id": "ZpG56FYiXYAQ"
      },
      "source": [
        "\n",
        "\n",
        "### `int`, `float`, `str` and `bool` objects and functions\n"
      ]
    },
    {
      "cell_type": "code",
      "execution_count": 28,
      "metadata": {
        "id": "5tJoz93OXYAR"
      },
      "outputs": [],
      "source": [
        "age_as_string = \"28\""
      ]
    },
    {
      "cell_type": "code",
      "execution_count": 29,
      "metadata": {
        "colab": {
          "base_uri": "https://localhost:8080/"
        },
        "id": "r65xG7geXYAR",
        "outputId": "24faa307-edc7-4490-8de1-b2e8d03e277c"
      },
      "outputs": [
        {
          "output_type": "execute_result",
          "data": {
            "text/plain": [
              "str"
            ]
          },
          "metadata": {},
          "execution_count": 29
        }
      ],
      "source": [
        "type(age_as_string)"
      ]
    },
    {
      "cell_type": "code",
      "execution_count": 30,
      "metadata": {
        "colab": {
          "base_uri": "https://localhost:8080/"
        },
        "id": "HClt7emIXYAR",
        "outputId": "71e41e7e-9bdd-4ce0-8291-57033c5c8ca4"
      },
      "outputs": [
        {
          "output_type": "execute_result",
          "data": {
            "text/plain": [
              "28"
            ]
          },
          "metadata": {},
          "execution_count": 30
        }
      ],
      "source": [
        "int(age_as_string)"
      ]
    },
    {
      "cell_type": "code",
      "execution_count": 31,
      "metadata": {
        "id": "E-1qPhOrXYAS"
      },
      "outputs": [],
      "source": [
        "age = int(age_as_string)"
      ]
    },
    {
      "cell_type": "code",
      "execution_count": 32,
      "metadata": {
        "colab": {
          "base_uri": "https://localhost:8080/"
        },
        "id": "xkButC8EXYAS",
        "outputId": "fcf4a4eb-f2dd-47ed-f200-4158426e09b1"
      },
      "outputs": [
        {
          "output_type": "execute_result",
          "data": {
            "text/plain": [
              "int"
            ]
          },
          "metadata": {},
          "execution_count": 32
        }
      ],
      "source": [
        "type(age)"
      ]
    },
    {
      "cell_type": "markdown",
      "metadata": {
        "id": "mDoH1_JUXYAT"
      },
      "source": [
        "\n",
        "### Functions\n"
      ]
    },
    {
      "cell_type": "code",
      "execution_count": 33,
      "metadata": {
        "id": "HFb87ZahXYAU"
      },
      "outputs": [],
      "source": [
        "def hello():\n",
        "    return \"Hello World\""
      ]
    },
    {
      "cell_type": "code",
      "execution_count": 34,
      "metadata": {
        "id": "aLZQkGeDXYAV"
      },
      "outputs": [],
      "source": [
        "result = hello()"
      ]
    },
    {
      "cell_type": "code",
      "execution_count": 35,
      "metadata": {
        "colab": {
          "base_uri": "https://localhost:8080/",
          "height": 35
        },
        "id": "fBmU2_j7XYAV",
        "outputId": "de27163e-a847-41c8-d0f1-5dcbd5adb6d8"
      },
      "outputs": [
        {
          "output_type": "execute_result",
          "data": {
            "application/vnd.google.colaboratory.intrinsic+json": {
              "type": "string"
            },
            "text/plain": [
              "'Hello World'"
            ]
          },
          "metadata": {},
          "execution_count": 35
        }
      ],
      "source": [
        "result"
      ]
    },
    {
      "cell_type": "code",
      "execution_count": 36,
      "metadata": {
        "id": "OY5dHlyGXYAW"
      },
      "outputs": [],
      "source": [
        "def empty():\n",
        "    x = 3"
      ]
    },
    {
      "cell_type": "code",
      "execution_count": 37,
      "metadata": {
        "id": "8DYUVPWUXYAX"
      },
      "outputs": [],
      "source": [
        "result = empty()"
      ]
    },
    {
      "cell_type": "code",
      "execution_count": 38,
      "metadata": {
        "colab": {
          "base_uri": "https://localhost:8080/"
        },
        "id": "nubQPB9EXYAX",
        "outputId": "215c98c8-f697-420e-a994-700f60f27ec3"
      },
      "outputs": [
        {
          "output_type": "stream",
          "name": "stdout",
          "text": [
            "None\n"
          ]
        }
      ],
      "source": [
        "print(result)"
      ]
    },
    {
      "cell_type": "markdown",
      "metadata": {
        "id": "0zAaMri6XYAY"
      },
      "source": [
        "#### Receiving parameters\n",
        "\n"
      ]
    },
    {
      "cell_type": "code",
      "execution_count": 39,
      "metadata": {
        "id": "RMzv_b97XYAY"
      },
      "outputs": [],
      "source": [
        "def add(x, y):\n",
        "    return x + y"
      ]
    },
    {
      "cell_type": "code",
      "execution_count": 40,
      "metadata": {
        "colab": {
          "base_uri": "https://localhost:8080/"
        },
        "id": "QUXxGHQbXYAY",
        "outputId": "870a8aa9-3820-4940-ca28-532bddb24673"
      },
      "outputs": [
        {
          "output_type": "execute_result",
          "data": {
            "text/plain": [
              "5"
            ]
          },
          "metadata": {},
          "execution_count": 40
        }
      ],
      "source": [
        "add(2, 3)"
      ]
    },
    {
      "cell_type": "markdown",
      "metadata": {
        "id": "52OO1weAXYAZ"
      },
      "source": [
        "We can also define functions that accept variable number of arguments, using the star args `*`:"
      ]
    },
    {
      "cell_type": "code",
      "execution_count": 41,
      "metadata": {
        "id": "Gn_SNjLeXYAZ"
      },
      "outputs": [],
      "source": [
        "def add(*args):\n",
        "    return sum(args)"
      ]
    },
    {
      "cell_type": "code",
      "execution_count": 42,
      "metadata": {
        "colab": {
          "base_uri": "https://localhost:8080/"
        },
        "id": "x-oXXHLQXYAa",
        "outputId": "28b58ff6-d1e1-4b9f-f746-088dc3f31827"
      },
      "outputs": [
        {
          "output_type": "execute_result",
          "data": {
            "text/plain": [
              "3"
            ]
          },
          "metadata": {},
          "execution_count": 42
        }
      ],
      "source": [
        "add(1, 1, 1)"
      ]
    },
    {
      "cell_type": "code",
      "execution_count": 43,
      "metadata": {
        "colab": {
          "base_uri": "https://localhost:8080/"
        },
        "id": "lmyN_JtfXYAa",
        "outputId": "95fa2a00-df40-4fe5-ebcf-8403cd1868b0"
      },
      "outputs": [
        {
          "output_type": "execute_result",
          "data": {
            "text/plain": [
              "1"
            ]
          },
          "metadata": {},
          "execution_count": 43
        }
      ],
      "source": [
        "add(1)"
      ]
    },
    {
      "cell_type": "markdown",
      "metadata": {
        "id": "KML758y4XYAb"
      },
      "source": [
        "\n",
        "\n",
        "### Operators\n",
        "\n",
        "\n",
        "#### Arithmetic operators"
      ]
    },
    {
      "cell_type": "code",
      "execution_count": 44,
      "metadata": {
        "colab": {
          "base_uri": "https://localhost:8080/"
        },
        "id": "od98dAw3XYAb",
        "outputId": "8129c372-ad9c-4b9f-c82c-2f89e2148cc2"
      },
      "outputs": [
        {
          "output_type": "execute_result",
          "data": {
            "text/plain": [
              "6"
            ]
          },
          "metadata": {},
          "execution_count": 44
        }
      ],
      "source": [
        "3 + 3"
      ]
    },
    {
      "cell_type": "code",
      "execution_count": 45,
      "metadata": {
        "colab": {
          "base_uri": "https://localhost:8080/"
        },
        "id": "3F2rsRmSXYAb",
        "outputId": "f339361c-cb09-49b3-ecb4-92f1735ddd6d"
      },
      "outputs": [
        {
          "output_type": "execute_result",
          "data": {
            "text/plain": [
              "4"
            ]
          },
          "metadata": {},
          "execution_count": 45
        }
      ],
      "source": [
        "11 % 7"
      ]
    },
    {
      "cell_type": "code",
      "execution_count": 46,
      "metadata": {
        "colab": {
          "base_uri": "https://localhost:8080/"
        },
        "id": "476uD234XYAh",
        "outputId": "f103bd21-545b-40af-8d5e-33ea28bba6da"
      },
      "outputs": [
        {
          "output_type": "execute_result",
          "data": {
            "text/plain": [
              "16"
            ]
          },
          "metadata": {},
          "execution_count": 46
        }
      ],
      "source": [
        "2 ** 4"
      ]
    },
    {
      "cell_type": "markdown",
      "metadata": {
        "id": "Jaugx55jXYAi"
      },
      "source": [
        "Precedence can be consulted on [the official docs](https://docs.python.org/3/reference/expressions.html#operator-precedence). But, for the most part, the precedence is similar to the usual in arithmetic:"
      ]
    },
    {
      "cell_type": "code",
      "execution_count": 47,
      "metadata": {
        "colab": {
          "base_uri": "https://localhost:8080/"
        },
        "id": "ikw4S8BOXYAi",
        "outputId": "83879f9b-9494-424a-e170-5369cdaf3943"
      },
      "outputs": [
        {
          "output_type": "execute_result",
          "data": {
            "text/plain": [
              "23"
            ]
          },
          "metadata": {},
          "execution_count": 47
        }
      ],
      "source": [
        "3 + 4 * 5"
      ]
    },
    {
      "cell_type": "code",
      "execution_count": 48,
      "metadata": {
        "colab": {
          "base_uri": "https://localhost:8080/"
        },
        "id": "AexFbIGrXYAj",
        "outputId": "80f4d39e-d772-43b6-dd14-60048a08aeb6"
      },
      "outputs": [
        {
          "output_type": "execute_result",
          "data": {
            "text/plain": [
              "35"
            ]
          },
          "metadata": {},
          "execution_count": 48
        }
      ],
      "source": [
        "3 + 4 * 2**3"
      ]
    },
    {
      "cell_type": "markdown",
      "metadata": {
        "id": "YoRh_phQXYAj"
      },
      "source": [
        "#### Boolean operators\n",
        "\n",
        "Regular comparison operators are available:"
      ]
    },
    {
      "cell_type": "code",
      "execution_count": 49,
      "metadata": {
        "colab": {
          "base_uri": "https://localhost:8080/"
        },
        "id": "jEpbpjd4XYAk",
        "outputId": "1edfdb40-15bb-4b6c-c7e2-de597370bd92"
      },
      "outputs": [
        {
          "output_type": "execute_result",
          "data": {
            "text/plain": [
              "True"
            ]
          },
          "metadata": {},
          "execution_count": 49
        }
      ],
      "source": [
        "7 > 3"
      ]
    },
    {
      "cell_type": "code",
      "execution_count": 50,
      "metadata": {
        "colab": {
          "base_uri": "https://localhost:8080/"
        },
        "id": "W7FFWo4AXYAk",
        "outputId": "22f27435-c7a5-4309-e73d-34d29004f6a3"
      },
      "outputs": [
        {
          "output_type": "execute_result",
          "data": {
            "text/plain": [
              "True"
            ]
          },
          "metadata": {},
          "execution_count": 50
        }
      ],
      "source": [
        "8 >= 8"
      ]
    },
    {
      "cell_type": "markdown",
      "metadata": {
        "id": "uzvfNyxlXYAm"
      },
      "source": [
        "Python also has other common boolean operators like `and`, `or`, `not`, etc. They are short circuited, as most modern programming languages:"
      ]
    },
    {
      "cell_type": "code",
      "execution_count": 52,
      "metadata": {
        "colab": {
          "base_uri": "https://localhost:8080/"
        },
        "id": "vqWwGzHFXYAm",
        "outputId": "0d6a5625-cd5e-46a6-8625-8d27cbb1eb99"
      },
      "outputs": [
        {
          "output_type": "execute_result",
          "data": {
            "text/plain": [
              "True"
            ]
          },
          "metadata": {},
          "execution_count": 52
        }
      ],
      "source": [
        "True and True"
      ]
    },
    {
      "cell_type": "code",
      "execution_count": 53,
      "metadata": {
        "colab": {
          "base_uri": "https://localhost:8080/"
        },
        "id": "sY1hv5i4XYAn",
        "outputId": "745b9f2a-f717-4059-e9bd-e3c00218972f"
      },
      "outputs": [
        {
          "output_type": "execute_result",
          "data": {
            "text/plain": [
              "True"
            ]
          },
          "metadata": {},
          "execution_count": 53
        }
      ],
      "source": [
        "not False"
      ]
    },
    {
      "cell_type": "code",
      "execution_count": 54,
      "metadata": {
        "colab": {
          "base_uri": "https://localhost:8080/"
        },
        "id": "KKk9vMmOXYAn",
        "outputId": "08b6e2da-9601-44df-a869-5c94a8d3921b"
      },
      "outputs": [
        {
          "output_type": "execute_result",
          "data": {
            "text/plain": [
              "True"
            ]
          },
          "metadata": {},
          "execution_count": 54
        }
      ],
      "source": [
        "False or True"
      ]
    },
    {
      "cell_type": "markdown",
      "metadata": {
        "id": "ROY1AH8gXYAo"
      },
      "source": [
        "\n",
        "### Control Flow\n",
        "\n",
        "#### If/else/elif statements"
      ]
    },
    {
      "cell_type": "code",
      "execution_count": 55,
      "metadata": {
        "id": "hD2_I93aXYAo"
      },
      "outputs": [],
      "source": [
        "days_subscribed = 28"
      ]
    },
    {
      "cell_type": "code",
      "execution_count": 56,
      "metadata": {
        "colab": {
          "base_uri": "https://localhost:8080/"
        },
        "id": "VyJYyGRpXYAp",
        "outputId": "e6efcf87-34bf-4042-efd4-6b861a453497"
      },
      "outputs": [
        {
          "output_type": "stream",
          "name": "stdout",
          "text": [
            "Halfway there\n"
          ]
        }
      ],
      "source": [
        "if days_subscribed >= 30:\n",
        "    print(\"Loyal customer\")\n",
        "elif days_subscribed >= 15:\n",
        "    print(\"Halfway there\")\n",
        "elif days_subscribed >= 1:\n",
        "    print(\"Building confidence\")\n",
        "else:\n",
        "    print(\"Too early\")"
      ]
    },
    {
      "cell_type": "markdown",
      "metadata": {
        "id": "MmGbrJrVXYAp"
      },
      "source": [
        "#### For loops\n"
      ]
    },
    {
      "cell_type": "code",
      "execution_count": 57,
      "metadata": {
        "id": "qHUyi_DTXYAq"
      },
      "outputs": [],
      "source": [
        "names = ['Monica', 'Ross', 'Chandler', 'Joey', 'Rachel']"
      ]
    },
    {
      "cell_type": "code",
      "execution_count": 58,
      "metadata": {
        "colab": {
          "base_uri": "https://localhost:8080/"
        },
        "id": "mUIokd2YXYAq",
        "outputId": "aedf134e-bae6-4d25-a136-b3866e1c38f5"
      },
      "outputs": [
        {
          "output_type": "stream",
          "name": "stdout",
          "text": [
            "Monica\n",
            "Ross\n",
            "Chandler\n",
            "Joey\n",
            "Rachel\n"
          ]
        }
      ],
      "source": [
        "for name in names:\n",
        "    print(name)"
      ]
    },
    {
      "cell_type": "markdown",
      "metadata": {
        "id": "nIh2E5jLXYAr"
      },
      "source": [
        "#### While loops\n"
      ]
    },
    {
      "cell_type": "code",
      "execution_count": 59,
      "metadata": {
        "id": "YmUcp8FOXYAr"
      },
      "outputs": [],
      "source": [
        "count = 0"
      ]
    },
    {
      "cell_type": "code",
      "execution_count": 60,
      "metadata": {
        "colab": {
          "base_uri": "https://localhost:8080/"
        },
        "id": "qqqnEtHXXYAr",
        "outputId": "7aad4b2b-f964-4925-bb55-9f9117a809a9"
      },
      "outputs": [
        {
          "output_type": "stream",
          "name": "stdout",
          "text": [
            "Counting...\n",
            "Counting...\n",
            "Counting...\n"
          ]
        }
      ],
      "source": [
        "while count < 3:\n",
        "    print(\"Counting...\")\n",
        "    count += 1"
      ]
    },
    {
      "cell_type": "markdown",
      "metadata": {
        "id": "mtpsfbfSXYAs"
      },
      "source": [
        "There's another block to mention, `try/except`, but it's in the **_Exceptions_** section."
      ]
    },
    {
      "cell_type": "markdown",
      "metadata": {
        "id": "fIpF6M39XYAs"
      },
      "source": [
        "\n",
        "\n",
        "### Collections\n",
        "\n",
        "\n",
        "* Lists\n",
        "* Tuples\n",
        "* Dictionaries\n",
        "* Sets\n",
        "\n",
        "\n",
        "#### Lists\n"
      ]
    },
    {
      "cell_type": "code",
      "execution_count": 61,
      "metadata": {
        "id": "4Wa98-lIXYAs"
      },
      "outputs": [],
      "source": [
        "l = [3, 'Hello World', True]"
      ]
    },
    {
      "cell_type": "code",
      "execution_count": 62,
      "metadata": {
        "colab": {
          "base_uri": "https://localhost:8080/"
        },
        "id": "mlCxOidlXYAs",
        "outputId": "e549a5bf-053e-4167-e911-a3c66ceeaa9f"
      },
      "outputs": [
        {
          "output_type": "execute_result",
          "data": {
            "text/plain": [
              "3"
            ]
          },
          "metadata": {},
          "execution_count": 62
        }
      ],
      "source": [
        "len(l)"
      ]
    },
    {
      "cell_type": "code",
      "execution_count": 63,
      "metadata": {
        "colab": {
          "base_uri": "https://localhost:8080/"
        },
        "id": "cSsDA3HYXYAt",
        "outputId": "477c38ba-d444-438e-cd01-869b16cd6995"
      },
      "outputs": [
        {
          "output_type": "execute_result",
          "data": {
            "text/plain": [
              "3"
            ]
          },
          "metadata": {},
          "execution_count": 63
        }
      ],
      "source": [
        "l[0]"
      ]
    },
    {
      "cell_type": "code",
      "execution_count": 64,
      "metadata": {
        "colab": {
          "base_uri": "https://localhost:8080/",
          "height": 35
        },
        "id": "hqdCfAzaXYAt",
        "outputId": "7b4779d4-eaba-4c4f-e0fd-b705f2db1045"
      },
      "outputs": [
        {
          "output_type": "execute_result",
          "data": {
            "application/vnd.google.colaboratory.intrinsic+json": {
              "type": "string"
            },
            "text/plain": [
              "'Hello World'"
            ]
          },
          "metadata": {},
          "execution_count": 64
        }
      ],
      "source": [
        "l[1]"
      ]
    },
    {
      "cell_type": "code",
      "execution_count": 65,
      "metadata": {
        "colab": {
          "base_uri": "https://localhost:8080/"
        },
        "id": "oAVWvsYTXYAt",
        "outputId": "5e928baa-ecd8-4cad-e1bb-52a9868c6057"
      },
      "outputs": [
        {
          "output_type": "execute_result",
          "data": {
            "text/plain": [
              "True"
            ]
          },
          "metadata": {},
          "execution_count": 65
        }
      ],
      "source": [
        "l[-1]"
      ]
    },
    {
      "cell_type": "code",
      "execution_count": 66,
      "metadata": {
        "colab": {
          "base_uri": "https://localhost:8080/",
          "height": 35
        },
        "id": "7cCFxInlXYAt",
        "outputId": "ae723a80-9284-47e7-930f-77b49ec7abbf"
      },
      "outputs": [
        {
          "output_type": "execute_result",
          "data": {
            "application/vnd.google.colaboratory.intrinsic+json": {
              "type": "string"
            },
            "text/plain": [
              "'Hello World'"
            ]
          },
          "metadata": {},
          "execution_count": 66
        }
      ],
      "source": [
        "l[-2]"
      ]
    },
    {
      "cell_type": "code",
      "execution_count": 67,
      "metadata": {
        "id": "uQ-YmQ0sXYAu"
      },
      "outputs": [],
      "source": [
        "l.append('Python 🐍')"
      ]
    },
    {
      "cell_type": "code",
      "execution_count": 68,
      "metadata": {
        "colab": {
          "base_uri": "https://localhost:8080/"
        },
        "id": "9lhQn-oXXYAu",
        "outputId": "a9419434-fd0b-4c5e-bd43-5683b4f3adc0"
      },
      "outputs": [
        {
          "output_type": "execute_result",
          "data": {
            "text/plain": [
              "[3, 'Hello World', True, 'Python 🐍']"
            ]
          },
          "metadata": {},
          "execution_count": 68
        }
      ],
      "source": [
        "l"
      ]
    },
    {
      "cell_type": "code",
      "execution_count": 69,
      "metadata": {
        "colab": {
          "base_uri": "https://localhost:8080/"
        },
        "id": "gmtZDMyeXYAu",
        "outputId": "6cf894ba-fa71-4d34-e9b2-26a9102b09d6"
      },
      "outputs": [
        {
          "output_type": "execute_result",
          "data": {
            "text/plain": [
              "True"
            ]
          },
          "metadata": {},
          "execution_count": 69
        }
      ],
      "source": [
        "'Python 🐍' in l"
      ]
    },
    {
      "cell_type": "code",
      "execution_count": 70,
      "metadata": {
        "colab": {
          "base_uri": "https://localhost:8080/"
        },
        "id": "6ue67oqAXYAu",
        "outputId": "b11c9940-30dc-4c85-82cd-b6cd143f0531"
      },
      "outputs": [
        {
          "output_type": "execute_result",
          "data": {
            "text/plain": [
              "False"
            ]
          },
          "metadata": {},
          "execution_count": 70
        }
      ],
      "source": [
        "'Ruby ♦️' in l"
      ]
    },
    {
      "cell_type": "markdown",
      "metadata": {
        "id": "LxfrkK6kXYAv"
      },
      "source": [
        "#### Tuples\n",
        "\n",
        "Tuples are very similar to lists, but with a huge difference: **they're immutable**. That means, once a tuple is created, it can't be further modified:"
      ]
    },
    {
      "cell_type": "code",
      "execution_count": 71,
      "metadata": {
        "id": "zyW7vqkPXYAv"
      },
      "outputs": [],
      "source": [
        "t = (3, 'Hello World', True)"
      ]
    },
    {
      "cell_type": "markdown",
      "metadata": {
        "id": "hEONMzdTXYAv"
      },
      "source": [
        "Indexing them works in the same way:"
      ]
    },
    {
      "cell_type": "code",
      "execution_count": 72,
      "metadata": {
        "colab": {
          "base_uri": "https://localhost:8080/"
        },
        "id": "RhZm49EhXYAv",
        "outputId": "70e8d993-01d7-42b2-8ee4-b7f4ee9cf270"
      },
      "outputs": [
        {
          "output_type": "execute_result",
          "data": {
            "text/plain": [
              "3"
            ]
          },
          "metadata": {},
          "execution_count": 72
        }
      ],
      "source": [
        "t[0]"
      ]
    },
    {
      "cell_type": "code",
      "execution_count": 73,
      "metadata": {
        "colab": {
          "base_uri": "https://localhost:8080/"
        },
        "id": "NqirrbiuXYAv",
        "outputId": "67656d2e-245c-4c69-fba0-8d788155267f"
      },
      "outputs": [
        {
          "output_type": "execute_result",
          "data": {
            "text/plain": [
              "True"
            ]
          },
          "metadata": {},
          "execution_count": 73
        }
      ],
      "source": [
        "t[-1]"
      ]
    },
    {
      "cell_type": "code",
      "execution_count": 74,
      "metadata": {
        "colab": {
          "base_uri": "https://localhost:8080/"
        },
        "id": "vV1FkyeXXYAw",
        "outputId": "09fc1f44-5282-46dc-f6a0-e8bf5b608ab8"
      },
      "outputs": [
        {
          "output_type": "execute_result",
          "data": {
            "text/plain": [
              "True"
            ]
          },
          "metadata": {},
          "execution_count": 74
        }
      ],
      "source": [
        "'Hello World' in t"
      ]
    },
    {
      "cell_type": "markdown",
      "metadata": {
        "id": "qAm4o5f2XYAw"
      },
      "source": [
        "But there's no way of modifying them."
      ]
    },
    {
      "cell_type": "markdown",
      "metadata": {
        "id": "IUKcgIQuXYAw"
      },
      "source": [
        "#### Dictionaries\n",
        "\n",
        "Dictionaries are map-like collections that store values under a user-defined key. The key must be an immutable object; we usually employ strings for keys. Dictionaries are mutable, and more importantly, **unordered**."
      ]
    },
    {
      "cell_type": "code",
      "execution_count": 75,
      "metadata": {
        "id": "AHj_fmjgXYAw"
      },
      "outputs": [],
      "source": [
        "user = {\n",
        "    \"name\": \"Mary Smith\",\n",
        "    \"email\": \"mary@example.com\",\n",
        "    \"age\": 30,\n",
        "    \"subscribed\": True\n",
        "}"
      ]
    },
    {
      "cell_type": "code",
      "execution_count": 76,
      "metadata": {
        "colab": {
          "base_uri": "https://localhost:8080/"
        },
        "id": "m4Grgq9AXYAw",
        "outputId": "663736b8-978f-4963-e7e1-0cda346205a5"
      },
      "outputs": [
        {
          "output_type": "execute_result",
          "data": {
            "text/plain": [
              "{'age': 30,\n",
              " 'email': 'mary@example.com',\n",
              " 'name': 'Mary Smith',\n",
              " 'subscribed': True}"
            ]
          },
          "metadata": {},
          "execution_count": 76
        }
      ],
      "source": [
        "user"
      ]
    },
    {
      "cell_type": "markdown",
      "metadata": {
        "id": "Yu9WRUpVXYAx"
      },
      "source": [
        "Access is by key, also using square brackets:"
      ]
    },
    {
      "cell_type": "code",
      "execution_count": 77,
      "metadata": {
        "colab": {
          "base_uri": "https://localhost:8080/",
          "height": 35
        },
        "id": "R1FFuDFSXYAx",
        "outputId": "e01fe49e-a4d3-40aa-aa25-fda05acfeef0"
      },
      "outputs": [
        {
          "output_type": "execute_result",
          "data": {
            "application/vnd.google.colaboratory.intrinsic+json": {
              "type": "string"
            },
            "text/plain": [
              "'mary@example.com'"
            ]
          },
          "metadata": {},
          "execution_count": 77
        }
      ],
      "source": [
        "user['email']"
      ]
    },
    {
      "cell_type": "code",
      "execution_count": 78,
      "metadata": {
        "colab": {
          "base_uri": "https://localhost:8080/"
        },
        "id": "_1powpbDXYAx",
        "outputId": "c13cc8d3-26c9-4181-9438-73fa23888a40"
      },
      "outputs": [
        {
          "output_type": "execute_result",
          "data": {
            "text/plain": [
              "True"
            ]
          },
          "metadata": {},
          "execution_count": 78
        }
      ],
      "source": [
        "'age' in user"
      ]
    },
    {
      "cell_type": "code",
      "execution_count": 79,
      "metadata": {
        "colab": {
          "base_uri": "https://localhost:8080/"
        },
        "id": "15qzPCArXYAx",
        "outputId": "1f35fa7c-c0a3-4b4c-f183-9bf349c1d48f"
      },
      "outputs": [
        {
          "output_type": "execute_result",
          "data": {
            "text/plain": [
              "False"
            ]
          },
          "metadata": {},
          "execution_count": 79
        }
      ],
      "source": [
        "'last_name' in user"
      ]
    },
    {
      "cell_type": "markdown",
      "metadata": {
        "id": "thQdM19vXYAx"
      },
      "source": [
        "#### Sets\n",
        "\n",
        "Sets are unordered collection which the unique characteristic that they only contain unique elements:"
      ]
    },
    {
      "cell_type": "code",
      "execution_count": 80,
      "metadata": {
        "id": "NU2EETTkXYAy"
      },
      "outputs": [],
      "source": [
        "s = {3, 1, 3, 7, 9, 1, 3, 1}"
      ]
    },
    {
      "cell_type": "code",
      "execution_count": 81,
      "metadata": {
        "colab": {
          "base_uri": "https://localhost:8080/"
        },
        "id": "xbhlsYp7XYAy",
        "outputId": "f854f852-a607-48f5-8632-2aaf2c02ad43"
      },
      "outputs": [
        {
          "output_type": "execute_result",
          "data": {
            "text/plain": [
              "{1, 3, 7, 9}"
            ]
          },
          "metadata": {},
          "execution_count": 81
        }
      ],
      "source": [
        "s"
      ]
    },
    {
      "cell_type": "markdown",
      "metadata": {
        "id": "y7UjQJfxXYAy"
      },
      "source": [
        "Adding elements is done with the `add` method:"
      ]
    },
    {
      "cell_type": "code",
      "execution_count": 82,
      "metadata": {
        "id": "34wDGBQNXYAz"
      },
      "outputs": [],
      "source": [
        "s.add(10)"
      ]
    },
    {
      "cell_type": "markdown",
      "metadata": {
        "id": "i6-ydDBiXYAz"
      },
      "source": [
        "Removing elements can be done with `pop()`:"
      ]
    },
    {
      "cell_type": "code",
      "execution_count": 83,
      "metadata": {
        "colab": {
          "base_uri": "https://localhost:8080/"
        },
        "id": "lXSY_wFLXYAz",
        "outputId": "6811fe50-476b-422c-b2a1-7f284ad92649"
      },
      "outputs": [
        {
          "output_type": "execute_result",
          "data": {
            "text/plain": [
              "1"
            ]
          },
          "metadata": {},
          "execution_count": 83
        }
      ],
      "source": [
        "s.pop()"
      ]
    },
    {
      "cell_type": "markdown",
      "metadata": {
        "id": "0yIQP8HOXYAz"
      },
      "source": [
        "\n",
        "\n",
        "### Iterating collections\n",
        "\n"
      ]
    },
    {
      "cell_type": "code",
      "execution_count": 84,
      "metadata": {
        "id": "_cJfUyt_XYA0"
      },
      "outputs": [],
      "source": [
        "l = [3, 'Hello World', True]"
      ]
    },
    {
      "cell_type": "code",
      "execution_count": 85,
      "metadata": {
        "colab": {
          "base_uri": "https://localhost:8080/"
        },
        "id": "yOeVSDXkXYA0",
        "outputId": "515cc504-0d5a-4bf8-8f96-67254a535c23"
      },
      "outputs": [
        {
          "output_type": "stream",
          "name": "stdout",
          "text": [
            "3\n",
            "Hello World\n",
            "True\n"
          ]
        }
      ],
      "source": [
        "for elem in l:\n",
        "    print(elem)"
      ]
    },
    {
      "cell_type": "code",
      "execution_count": 86,
      "metadata": {
        "colab": {
          "base_uri": "https://localhost:8080/"
        },
        "id": "GhX6iXIaXYA0",
        "outputId": "e6e0022e-9a3a-4ec6-bf57-cc8935cb2508"
      },
      "outputs": [
        {
          "output_type": "stream",
          "name": "stdout",
          "text": [
            "Name => Mary Smith\n",
            "Email => mary@example.com\n",
            "Age => 30\n",
            "Subscribed => True\n"
          ]
        }
      ],
      "source": [
        "for key in user:\n",
        "    print(key.title(), '=>', user[key])"
      ]
    },
    {
      "cell_type": "markdown",
      "metadata": {
        "id": "Hdk_Oq0cXYA1"
      },
      "source": [
        "\n",
        "\n",
        "### Modules\n"
      ]
    },
    {
      "cell_type": "code",
      "execution_count": 87,
      "metadata": {
        "id": "CLpXVbadXYA1"
      },
      "outputs": [],
      "source": [
        "import random"
      ]
    },
    {
      "cell_type": "code",
      "execution_count": 88,
      "metadata": {
        "colab": {
          "base_uri": "https://localhost:8080/"
        },
        "id": "HLI1iwXCXYA1",
        "outputId": "71ba6cd9-4516-4e46-9dce-757161d28ad4"
      },
      "outputs": [
        {
          "output_type": "execute_result",
          "data": {
            "text/plain": [
              "20"
            ]
          },
          "metadata": {},
          "execution_count": 88
        }
      ],
      "source": [
        "random.randint(0, 99)"
      ]
    },
    {
      "cell_type": "markdown",
      "metadata": {
        "id": "7UaAU0HZXYA2"
      },
      "source": [
        "\n",
        "\n",
        "### Exceptions\n"
      ]
    },
    {
      "cell_type": "code",
      "execution_count": 89,
      "metadata": {
        "id": "CTdqEkQDXYA2"
      },
      "outputs": [],
      "source": [
        "age = \"30\""
      ]
    },
    {
      "cell_type": "code",
      "execution_count": 90,
      "metadata": {
        "colab": {
          "base_uri": "https://localhost:8080/",
          "height": 182
        },
        "id": "HKCAhzd5XYA2",
        "outputId": "916322ce-de5c-4f3c-c6d4-37c8779a121a"
      },
      "outputs": [
        {
          "output_type": "error",
          "ename": "TypeError",
          "evalue": "ignored",
          "traceback": [
            "\u001b[0;31m---------------------------------------------------------------------------\u001b[0m",
            "\u001b[0;31mTypeError\u001b[0m                                 Traceback (most recent call last)",
            "\u001b[0;32m<ipython-input-90-31f2672e1932>\u001b[0m in \u001b[0;36m<module>\u001b[0;34m()\u001b[0m\n\u001b[0;32m----> 1\u001b[0;31m \u001b[0;32mif\u001b[0m \u001b[0mage\u001b[0m \u001b[0;34m>\u001b[0m \u001b[0;36m21\u001b[0m\u001b[0;34m:\u001b[0m\u001b[0;34m\u001b[0m\u001b[0;34m\u001b[0m\u001b[0m\n\u001b[0m\u001b[1;32m      2\u001b[0m     \u001b[0mprint\u001b[0m\u001b[0;34m(\u001b[0m\u001b[0;34m\"Allowed entrance\"\u001b[0m\u001b[0;34m)\u001b[0m\u001b[0;34m\u001b[0m\u001b[0;34m\u001b[0m\u001b[0m\n",
            "\u001b[0;31mTypeError\u001b[0m: '>' not supported between instances of 'str' and 'int'"
          ]
        }
      ],
      "source": [
        "if age > 21:\n",
        "    print(\"Allowed entrance\")"
      ]
    },
    {
      "cell_type": "markdown",
      "metadata": {
        "id": "Dffsvl1IXYA2"
      },
      "source": [
        "Exceptions can be handled at runtime with a `try/except` block:"
      ]
    },
    {
      "cell_type": "code",
      "execution_count": 91,
      "metadata": {
        "colab": {
          "base_uri": "https://localhost:8080/"
        },
        "id": "D-fvLJ_zXYA3",
        "outputId": "6c4e6600-754c-416c-e212-be2ee40684f2"
      },
      "outputs": [
        {
          "output_type": "stream",
          "name": "stdout",
          "text": [
            "Something went wrong\n"
          ]
        }
      ],
      "source": [
        "try:\n",
        "    if age > 21:\n",
        "        print(\"Allowed entrance\")\n",
        "except:\n",
        "    print(\"Something went wrong\")"
      ]
    },
    {
      "cell_type": "markdown",
      "metadata": {
        "id": "SNe8HyQyXYA3"
      },
      "source": [
        "The `except` portion can receive also be parametrized with the expected exception:"
      ]
    },
    {
      "cell_type": "code",
      "execution_count": 92,
      "metadata": {
        "colab": {
          "base_uri": "https://localhost:8080/"
        },
        "id": "4fYlAcjbXYA3",
        "outputId": "ea635ad4-2e8c-4268-c84e-468b59d53af6"
      },
      "outputs": [
        {
          "output_type": "stream",
          "name": "stdout",
          "text": [
            "Age is probably of a wrong type\n"
          ]
        }
      ],
      "source": [
        "try:\n",
        "    if age > 21:\n",
        "        print(\"Allowed entrance\")\n",
        "except TypeError:\n",
        "    print(\"Age is probably of a wrong type\")"
      ]
    }
  ],
  "metadata": {
    "kernelspec": {
      "display_name": "Python 3",
      "language": "python",
      "name": "python3"
    },
    "language_info": {
      "codemirror_mode": {
        "name": "ipython",
        "version": 3
      },
      "file_extension": ".py",
      "mimetype": "text/x-python",
      "name": "python",
      "nbconvert_exporter": "python",
      "pygments_lexer": "ipython3",
      "version": "3.6.8"
    },
    "colab": {
      "name": "assignment05_part_8.ipynb",
      "provenance": [],
      "include_colab_link": true
    }
  },
  "nbformat": 4,
  "nbformat_minor": 0
}