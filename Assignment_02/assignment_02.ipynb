{
  "nbformat": 4,
  "nbformat_minor": 0,
  "metadata": {
    "colab": {
      "name": "assignment_02.ipynb",
      "provenance": [],
      "include_colab_link": true
    },
    "kernelspec": {
      "name": "python3",
      "display_name": "Python 3"
    },
    "language_info": {
      "name": "python"
    }
  },
  "cells": [
    {
      "cell_type": "markdown",
      "metadata": {
        "id": "view-in-github",
        "colab_type": "text"
      },
      "source": [
        "<a href=\"https://colab.research.google.com/github/abdulSalamKagaji97/AbdulSalam_DATA690/blob/main/Assignment_02/assignment_02.ipynb\" target=\"_parent\"><img src=\"https://colab.research.google.com/assets/colab-badge.svg\" alt=\"Open In Colab\"/></a>"
      ]
    },
    {
      "cell_type": "markdown",
      "source": [
        "# Assignment 02\n",
        "- Name: **Abdul Salam Kagaji**\n",
        "- Date: **02/11/2022**\n",
        "\n",
        "## Objective\n",
        "This assignment is intended to perform the following mathemetical calculations on the user input (list of integers)\n",
        "1. Minimum\n",
        "2. Maximum\n",
        "3. Range\n",
        "4. Mean\n",
        "5. Variance\n",
        "6. Standard Deviation"
      ],
      "metadata": {
        "id": "XAaQdEUxISBR"
      }
    },
    {
      "cell_type": "markdown",
      "source": [
        "## Function for determining the Maximum and Minimum from a list of numbers"
      ],
      "metadata": {
        "id": "_gN6wsgnMTF8"
      }
    },
    {
      "cell_type": "code",
      "execution_count": null,
      "metadata": {
        "id": "_PF1MdX8IOk2"
      },
      "outputs": [],
      "source": [
        "# for determining the maximum and minimum from a list\n",
        "def find_max_min(integers):\n",
        "  if len(integers) > 0 :\n",
        "    max = 0\n",
        "    min = integers[0]\n",
        "    for integer in integers:\n",
        "      if max < integer:\n",
        "        max = integer\n",
        "      if integer < min:\n",
        "        min = integer\n",
        "    return {\"max\":max,\"min\":min} # returning a dictionary of maximum and minimum from a list\n",
        "  \n",
        "  return {\"max\":0,\"min\":0}\n",
        "\n",
        "# find_max_min([1,2,3,4])"
      ]
    },
    {
      "cell_type": "markdown",
      "source": [
        "## Function for calculating the Range"
      ],
      "metadata": {
        "id": "Pd8yhIVwNz0t"
      }
    },
    {
      "cell_type": "code",
      "source": [
        "# for Calculating the range\n",
        "def find_range(max,min):\n",
        "  return max-min"
      ],
      "metadata": {
        "id": "IV60x-bqNdOJ"
      },
      "execution_count": null,
      "outputs": []
    },
    {
      "cell_type": "markdown",
      "source": [
        "## Function for calculating the Mean"
      ],
      "metadata": {
        "id": "IOKYl1AjODz4"
      }
    },
    {
      "cell_type": "code",
      "source": [
        "def calculate_mean(integers):\n",
        "  sum = 0\n",
        "  \n",
        "  for integer in integers:\n",
        "    sum += integer\n",
        "  try:\n",
        "    # handling a division by 0(zero) error\n",
        "    mean = sum / len(integers)\n",
        "    return mean\n",
        "  except:\n",
        "    return 0.0\n",
        "\n",
        "# calculate_mean([])"
      ],
      "metadata": {
        "id": "PiWZ17LCOOEW"
      },
      "execution_count": null,
      "outputs": []
    },
    {
      "cell_type": "markdown",
      "source": [
        "## Funciton for calculating the Variance"
      ],
      "metadata": {
        "id": "3X9TP-f3O7DM"
      }
    },
    {
      "cell_type": "code",
      "source": [
        "def calculate_variance(integers,mean):\n",
        "  if len(integers) > 0 :\n",
        "    differenceSquares = [(integer-mean)**2 for integer in integers]\n",
        "    sum = 0\n",
        "    for ds in differenceSquares:\n",
        "      sum += ds\n",
        "    variance = sum / len(integers)\n",
        "    return variance\n",
        "  return 0.0"
      ],
      "metadata": {
        "id": "iAffqZ4LOnr3"
      },
      "execution_count": null,
      "outputs": []
    },
    {
      "cell_type": "markdown",
      "source": [
        "## Funciton for calculating the Standard Deviation"
      ],
      "metadata": {
        "id": "SLE2tt03QKvM"
      }
    },
    {
      "cell_type": "code",
      "source": [
        "def calculate_standard_deviation(variance):\n",
        "  return variance ** 0.5\n",
        "\n",
        "# calculate_standard_deviation(4)"
      ],
      "metadata": {
        "colab": {
          "base_uri": "https://localhost:8080/"
        },
        "id": "cLpACSswQTpx",
        "outputId": "c966775b-7d22-4c7e-8be6-ed9fae0aa1b7"
      },
      "execution_count": null,
      "outputs": [
        {
          "output_type": "execute_result",
          "data": {
            "text/plain": [
              "2.0"
            ]
          },
          "metadata": {},
          "execution_count": 24
        }
      ]
    },
    {
      "cell_type": "markdown",
      "source": [
        "## Taking 10 integers from user with exception handling"
      ],
      "metadata": {
        "id": "t0ZJM0tKQnYx"
      }
    },
    {
      "cell_type": "code",
      "source": [
        "integers = []\n",
        "count = 1\n",
        "while count <= 10:\n",
        "  try:\n",
        "    integer = int(input(f\"Enter an integer for index {count}: \")) # type casting the string input (default input type) to integer type\n",
        "    integers.append(integer)\n",
        "    count += 1\n",
        "  except:\n",
        "    print(\"Please provide a valid integer\")\n",
        "# print(integers)\n",
        "  "
      ],
      "metadata": {
        "colab": {
          "base_uri": "https://localhost:8080/"
        },
        "id": "9dokAhj-QZZR",
        "outputId": "a761686d-76bf-454d-cbd9-838722510a94"
      },
      "execution_count": null,
      "outputs": [
        {
          "name": "stdout",
          "output_type": "stream",
          "text": [
            "Enter an integer for index 1: 1\n",
            "Enter an integer for index 2: abdul\n",
            "Please provide a valid integer\n",
            "Enter an integer for index 2: 2\n",
            "Enter an integer for index 3: 3\n",
            "Enter an integer for index 4: 4\n",
            "Enter an integer for index 5: 5\n",
            "Enter an integer for index 6: 6\n",
            "Enter an integer for index 7: 7\n",
            "Enter an integer for index 8: 8\n",
            "Enter an integer for index 9: 9\n",
            "Enter an integer for index 10: 10\n"
          ]
        }
      ]
    },
    {
      "cell_type": "markdown",
      "source": [
        "## Calculating the objectives"
      ],
      "metadata": {
        "id": "Jth_8sixSM4r"
      }
    },
    {
      "cell_type": "code",
      "source": [
        "print(\"Input Provided : \",integers)\n",
        "\n",
        "min_max = find_max_min(integers)\n",
        "print(\"1. Minimum : \",min_max[\"min\"])\n",
        "print(\"2. Maximum : \",min_max[\"max\"])\n",
        "\n",
        "print(\"3. Range : \", find_range(min_max[\"max\"],min_max[\"min\"]))\n",
        "\n",
        "mean = calculate_mean(integers)\n",
        "print(\"4. Mean : \",mean)\n",
        "\n",
        "variance = calculate_variance(integers, mean)\n",
        "print(\"5. Variance : \",variance)\n",
        "\n",
        "standard_deviation = calculate_standard_deviation(variance)\n",
        "print(\"6. Standard Deviation : \", standard_deviation)"
      ],
      "metadata": {
        "colab": {
          "base_uri": "https://localhost:8080/"
        },
        "id": "wKg_p_QaRJnI",
        "outputId": "073bf9e6-80fb-4440-bb9b-7fa88f833b8b"
      },
      "execution_count": null,
      "outputs": [
        {
          "output_type": "stream",
          "name": "stdout",
          "text": [
            "Input Provided :  [1, 2, 3, 4, 5, 6, 7, 8, 9, 10]\n",
            "1. Minimum :  1\n",
            "2. Maximum :  10\n",
            "3. Range :  9\n",
            "4. Mean :  5.5\n",
            "5. Variance :  8.25\n",
            "6. Standard Deviation :  2.8722813232690143\n"
          ]
        }
      ]
    }
  ]
}