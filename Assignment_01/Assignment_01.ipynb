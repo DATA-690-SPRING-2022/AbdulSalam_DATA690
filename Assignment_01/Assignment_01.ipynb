{
  "nbformat": 4,
  "nbformat_minor": 0,
  "metadata": {
    "colab": {
      "name": "Assignment_01.ipynb",
      "provenance": [],
      "collapsed_sections": [],
      "authorship_tag": "ABX9TyMlVxrk7xkMJkxZ28lcwLo8",
      "include_colab_link": true
    },
    "kernelspec": {
      "name": "python3",
      "display_name": "Python 3"
    },
    "language_info": {
      "name": "python"
    }
  },
  "cells": [
    {
      "cell_type": "markdown",
      "metadata": {
        "id": "view-in-github",
        "colab_type": "text"
      },
      "source": [
        "<a href=\"https://colab.research.google.com/github/abdulSalamKagaji97/AbdulSalam_DATA690/blob/main/Assignment_01/Assignment_01.ipynb\" target=\"_parent\"><img src=\"https://colab.research.google.com/assets/colab-badge.svg\" alt=\"Open In Colab\"/></a>"
      ]
    },
    {
      "cell_type": "markdown",
      "source": [
        "# Course: **Data 690**\n",
        "- Assignment: **01**\n",
        "- Semester  : **Spring 2022**\n",
        "- Name      : **Abdul Salam Kagaji**\n",
        "- Student Id : **XH61938**\n",
        "- Date : **02/02/2022**\n",
        "\n",
        "This is an intoductory code to python with some simple arithmetic operations and data structures\n"
      ],
      "metadata": {
        "id": "vZO4epmNIiOR"
      }
    },
    {
      "cell_type": "markdown",
      "source": [
        "## 1. Standard out"
      ],
      "metadata": {
        "id": "j_RQwIcEKwXW"
      }
    },
    {
      "cell_type": "code",
      "execution_count": null,
      "metadata": {
        "colab": {
          "base_uri": "https://localhost:8080/"
        },
        "id": "H2WGCTNcIaQe",
        "outputId": "ca7f967b-2ce4-4819-aebc-e9f59bbd0168"
      },
      "outputs": [
        {
          "output_type": "stream",
          "name": "stdout",
          "text": [
            "Hi! this is Abdul Salam Kagaji\n"
          ]
        }
      ],
      "source": [
        "print(\"Hi! this is Abdul Salam Kagaji\")"
      ]
    },
    {
      "cell_type": "markdown",
      "source": [
        "## 2. Basic Arithmetic Operations"
      ],
      "metadata": {
        "id": "bxOLYf0CN6hE"
      }
    },
    {
      "cell_type": "code",
      "source": [
        "var1 = 10\n",
        "var2 = 20\n",
        "if (var2//var1)%2 == 0:\n",
        "  print(f\"Var2 i.e. {var2} is divisible by Var1 i.e. { var1}\") \n",
        "else:\n",
        "  print(f\"Var2 i.e. {var2} is not divisible by Var1 i.e. { var1}\") \n"
      ],
      "metadata": {
        "colab": {
          "base_uri": "https://localhost:8080/"
        },
        "id": "XDkRKO4DLckT",
        "outputId": "0266d186-b45e-42f0-b56e-bb9d46e89446"
      },
      "execution_count": null,
      "outputs": [
        {
          "output_type": "stream",
          "name": "stdout",
          "text": [
            "Var2 i.e. 20 is divisible by Var1 i.e. 10\n"
          ]
        }
      ]
    },
    {
      "cell_type": "markdown",
      "source": [
        "# 3. Example data structure (lists) operation"
      ],
      "metadata": {
        "id": "3Q17uoAIOBHY"
      }
    },
    {
      "cell_type": "code",
      "source": [
        "items = [\"course1\", \"course2\", \"course3\"]\n",
        "for itemIndex,item in enumerate(items):\n",
        "  print(f\"Item {str(itemIndex)} : \", item)"
      ],
      "metadata": {
        "colab": {
          "base_uri": "https://localhost:8080/"
        },
        "id": "Cp5DVGOGMEnn",
        "outputId": "f17a0829-18b0-4887-efaa-c408b47692d3"
      },
      "execution_count": null,
      "outputs": [
        {
          "output_type": "stream",
          "name": "stdout",
          "text": [
            "Item 0 :  course1\n",
            "Item 1 :  course2\n",
            "Item 2 :  course3\n"
          ]
        }
      ]
    }
  ]
}