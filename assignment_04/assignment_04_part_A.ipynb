{
  "nbformat": 4,
  "nbformat_minor": 0,
  "metadata": {
    "colab": {
      "name": "assignment_04_part_A.ipynb",
      "provenance": [],
      "collapsed_sections": [],
      "authorship_tag": "ABX9TyOXDhdNjvrHfX4dCAMzXRM5",
      "include_colab_link": true
    },
    "kernelspec": {
      "name": "python3",
      "display_name": "Python 3"
    },
    "language_info": {
      "name": "python"
    }
  },
  "cells": [
    {
      "cell_type": "markdown",
      "metadata": {
        "id": "view-in-github",
        "colab_type": "text"
      },
      "source": [
        "<a href=\"https://colab.research.google.com/github/abdulSalamKagaji97/AbdulSalam_DATA690/blob/main/assignment_04/assignment_04_part_A.ipynb\" target=\"_parent\"><img src=\"https://colab.research.google.com/assets/colab-badge.svg\" alt=\"Open In Colab\"/></a>"
      ]
    },
    {
      "cell_type": "markdown",
      "source": [
        "# Assignment 04 Part - A\n",
        "- Name: **Abdul Salam Kagaji**\n",
        "- Date: **02/25/2022**"
      ],
      "metadata": {
        "id": "d0VfOROMouvA"
      }
    },
    {
      "cell_type": "markdown",
      "source": [
        "## 1. Open the text file census_costs.txt and read all lines"
      ],
      "metadata": {
        "id": "h7Jb0IhE1yZN"
      }
    },
    {
      "cell_type": "code",
      "source": [
        "with open (\"census_costs.txt\") as file: #opening the file with default access mode as 'read'\n",
        "    line_list = file.readlines()\n",
        "line_list"
      ],
      "metadata": {
        "colab": {
          "base_uri": "https://localhost:8080/"
        },
        "id": "LQFEAU35o9eR",
        "outputId": "e79747b5-00f4-462f-bceb-b23829d954c2"
      },
      "execution_count": 2,
      "outputs": [
        {
          "output_type": "execute_result",
          "data": {
            "text/plain": [
              "['Source: https://www.genealogybranches.com/censuscosts.html\\n',\n",
              " 'Census Year\\tTotal Population\\tCensus Cost\\tAverage Cost Per Person\\n',\n",
              " '1790\\t3,929,214\\t$44,377\\t1.13 cents\\n',\n",
              " '1800\\t5,308,483\\t$66,109\\t1.24 cents\\n',\n",
              " '1810\\t7,239,881\\t$178,445\\t2.46 cents\\n',\n",
              " '1820\\t9,633,822\\t$208,526\\t2.16 cents\\n',\n",
              " '1830\\t12,866,020\\t$378,545\\t2.94 cents\\n',\n",
              " '1840\\t17,069,458\\t$833,371\\t4.88 cents\\n',\n",
              " '1850\\t23,191,876\\t$1,423,351\\t6.14 cents\\n',\n",
              " '1860\\t31,443,321\\t$1,969,377\\t6.26 cents\\n',\n",
              " '1870\\t38,558,371\\t$3,421,198\\t8.87 cents\\n',\n",
              " '1880\\t50,155,783\\t$5,790,678\\t11.54 cents\\n',\n",
              " '1890\\t62,979,766\\t$11,547,127\\t18.33 cents\\n',\n",
              " '1900\\t76,303,387\\t$11,854,000\\t15.54 cents\\n',\n",
              " '1910\\t91,972,266\\t$15,968,000\\t17.07 cents\\n',\n",
              " '1920\\t105,710,620\\t$25,117,000\\t23.76 cents\\n',\n",
              " '1930\\t122,775,046\\t$40,156,000\\t32.71 cents\\n',\n",
              " '1940\\t131,669,275\\t$67,527,000\\t51.29 cents\\n',\n",
              " '1950\\t151,325,798\\t$91,462,000\\t60.44 cents\\n',\n",
              " '1960\\t179,323,175\\t$127,934,000\\t71.34 cents\\n',\n",
              " '1970\\t203,302,031\\t$247,653,000\\t$1.22\\n',\n",
              " '1980\\t226,542,199\\t$1,078,488,000\\t$4.76\\n',\n",
              " '1990\\t248,718,301\\t$2,492,830,000\\t$10.02\\n',\n",
              " '2000\\t281,421,906\\t$4.5 Billion\\t$15.99\\n',\n",
              " '2010*\\t308,745,538\\t$13 Billion\\t$42.11\\n']"
            ]
          },
          "metadata": {},
          "execution_count": 2
        }
      ]
    },
    {
      "cell_type": "markdown",
      "source": [
        "## 2. Extract the first two lines and put them in a different list named \"top2_list\""
      ],
      "metadata": {
        "id": "sSQFevXo19MK"
      }
    },
    {
      "cell_type": "code",
      "source": [
        "top2_list = line_list[0:2]\n",
        "top2_list"
      ],
      "metadata": {
        "colab": {
          "base_uri": "https://localhost:8080/"
        },
        "id": "x7zHPqr6po_Y",
        "outputId": "44e3da59-39fc-4929-b968-05d041c8c35b"
      },
      "execution_count": 3,
      "outputs": [
        {
          "output_type": "execute_result",
          "data": {
            "text/plain": [
              "['Source: https://www.genealogybranches.com/censuscosts.html\\n',\n",
              " 'Census Year\\tTotal Population\\tCensus Cost\\tAverage Cost Per Person\\n']"
            ]
          },
          "metadata": {},
          "execution_count": 3
        }
      ]
    },
    {
      "cell_type": "markdown",
      "source": [
        "## 3. Put the rest of the lines (containing useful data elements) in a new list named \"data_list\""
      ],
      "metadata": {
        "id": "8F__dbNg2IJj"
      }
    },
    {
      "cell_type": "code",
      "source": [
        "data_list = line_list[2:]\n",
        "data_list"
      ],
      "metadata": {
        "colab": {
          "base_uri": "https://localhost:8080/"
        },
        "id": "sTDHo29Epz1B",
        "outputId": "62b130bf-7d35-4981-8181-11c433b4cfcf"
      },
      "execution_count": 4,
      "outputs": [
        {
          "output_type": "execute_result",
          "data": {
            "text/plain": [
              "['1790\\t3,929,214\\t$44,377\\t1.13 cents\\n',\n",
              " '1800\\t5,308,483\\t$66,109\\t1.24 cents\\n',\n",
              " '1810\\t7,239,881\\t$178,445\\t2.46 cents\\n',\n",
              " '1820\\t9,633,822\\t$208,526\\t2.16 cents\\n',\n",
              " '1830\\t12,866,020\\t$378,545\\t2.94 cents\\n',\n",
              " '1840\\t17,069,458\\t$833,371\\t4.88 cents\\n',\n",
              " '1850\\t23,191,876\\t$1,423,351\\t6.14 cents\\n',\n",
              " '1860\\t31,443,321\\t$1,969,377\\t6.26 cents\\n',\n",
              " '1870\\t38,558,371\\t$3,421,198\\t8.87 cents\\n',\n",
              " '1880\\t50,155,783\\t$5,790,678\\t11.54 cents\\n',\n",
              " '1890\\t62,979,766\\t$11,547,127\\t18.33 cents\\n',\n",
              " '1900\\t76,303,387\\t$11,854,000\\t15.54 cents\\n',\n",
              " '1910\\t91,972,266\\t$15,968,000\\t17.07 cents\\n',\n",
              " '1920\\t105,710,620\\t$25,117,000\\t23.76 cents\\n',\n",
              " '1930\\t122,775,046\\t$40,156,000\\t32.71 cents\\n',\n",
              " '1940\\t131,669,275\\t$67,527,000\\t51.29 cents\\n',\n",
              " '1950\\t151,325,798\\t$91,462,000\\t60.44 cents\\n',\n",
              " '1960\\t179,323,175\\t$127,934,000\\t71.34 cents\\n',\n",
              " '1970\\t203,302,031\\t$247,653,000\\t$1.22\\n',\n",
              " '1980\\t226,542,199\\t$1,078,488,000\\t$4.76\\n',\n",
              " '1990\\t248,718,301\\t$2,492,830,000\\t$10.02\\n',\n",
              " '2000\\t281,421,906\\t$4.5 Billion\\t$15.99\\n',\n",
              " '2010*\\t308,745,538\\t$13 Billion\\t$42.11\\n']"
            ]
          },
          "metadata": {},
          "execution_count": 4
        }
      ]
    },
    {
      "cell_type": "markdown",
      "source": [
        "## 4. Extracting the  \"Census Year\" column from the data_list and cleansing it for \"*\""
      ],
      "metadata": {
        "id": "3h9qUIXO2RCC"
      }
    },
    {
      "cell_type": "code",
      "source": [
        "columns = top2_list[1].split(\"\\t\") # get column labels\n",
        "req_col_index = 0\n",
        "for i,col in enumerate(columns): # iterate to find the index of requeried column\n",
        "    if col == 'Census Year':\n",
        "        req_col_index = i\n",
        "\n",
        "year_list = []\n",
        "\n",
        "# get years\n",
        "\n",
        "for li in data_list:\n",
        "    year_list.append(int(li.split(\"\\t\")[req_col_index].replace(\"*\",\"\")))\n",
        "\n",
        "print(year_list)"
      ],
      "metadata": {
        "colab": {
          "base_uri": "https://localhost:8080/"
        },
        "id": "Txd7cGUbp30P",
        "outputId": "37562e99-272f-4af4-b56c-4ac303253104"
      },
      "execution_count": 5,
      "outputs": [
        {
          "output_type": "stream",
          "name": "stdout",
          "text": [
            "[1790, 1800, 1810, 1820, 1830, 1840, 1850, 1860, 1870, 1880, 1890, 1900, 1910, 1920, 1930, 1940, 1950, 1960, 1970, 1980, 1990, 2000, 2010]\n"
          ]
        }
      ]
    },
    {
      "cell_type": "markdown",
      "source": [
        "## 5. Extracting the  \"Total Population\" column from the data_list and cleansing it for \",\"\n",
        "\n",
        "1.   List item\n",
        "2.   List item\n",
        "\n"
      ],
      "metadata": {
        "id": "uDO6uC6P2l2I"
      }
    },
    {
      "cell_type": "code",
      "source": [
        "for i,col in enumerate(columns): \n",
        "    if col == 'Total Population':\n",
        "        req_col_index = i\n",
        "\n",
        "# get populations\n",
        "pop_list = []\n",
        "for li in data_list:\n",
        "    pop_list.append(int(li.split(\"\\t\")[req_col_index].replace(\",\",\"\")))\n",
        "\n",
        "print(pop_list)"
      ],
      "metadata": {
        "colab": {
          "base_uri": "https://localhost:8080/"
        },
        "id": "O_s1WeB3qLk-",
        "outputId": "2eeb4a5e-a8e2-4fb9-b9a6-34b97781fedc"
      },
      "execution_count": 6,
      "outputs": [
        {
          "output_type": "stream",
          "name": "stdout",
          "text": [
            "[3929214, 5308483, 7239881, 9633822, 12866020, 17069458, 23191876, 31443321, 38558371, 50155783, 62979766, 76303387, 91972266, 105710620, 122775046, 131669275, 151325798, 179323175, 203302031, 226542199, 248718301, 281421906, 308745538]\n"
          ]
        }
      ]
    },
    {
      "cell_type": "markdown",
      "source": [
        "## 6. Extracting the  \"Census Cost\" column from the data_list and cleansing it for \",\",\"$\",\"Billion\""
      ],
      "metadata": {
        "id": "5S8MfQSb2v3C"
      }
    },
    {
      "cell_type": "code",
      "source": [
        "for i,col in enumerate(columns): \n",
        "    if col == 'Census Cost':\n",
        "        req_col_index = i\n",
        "\n",
        "# get populations\n",
        "cost_list = []\n",
        "for li in data_list:\n",
        "    cost_list.append(float(li.split(\"\\t\")[req_col_index].replace(\" \",\"\").replace(\"$\",\"\").replace(\",\",\"\").replace(\"Billion\",'000000000')))\n",
        "\n",
        "print(cost_list)"
      ],
      "metadata": {
        "colab": {
          "base_uri": "https://localhost:8080/"
        },
        "id": "VBTSq7IjqV2Q",
        "outputId": "ff077a3a-c2c0-409a-8670-1c717e367534"
      },
      "execution_count": 7,
      "outputs": [
        {
          "output_type": "stream",
          "name": "stdout",
          "text": [
            "[44377.0, 66109.0, 178445.0, 208526.0, 378545.0, 833371.0, 1423351.0, 1969377.0, 3421198.0, 5790678.0, 11547127.0, 11854000.0, 15968000.0, 25117000.0, 40156000.0, 67527000.0, 91462000.0, 127934000.0, 247653000.0, 1078488000.0, 2492830000.0, 4.5, 13000000000.0]\n"
          ]
        }
      ]
    },
    {
      "cell_type": "markdown",
      "source": [
        "## 7. Extracting the  \"Average Cost Per Person\" column from the data_list and cleansing it for \"$\",\"cents\""
      ],
      "metadata": {
        "id": "W5_J0A153AxQ"
      }
    },
    {
      "cell_type": "code",
      "source": [
        "for i,col in enumerate(columns): \n",
        "    if \"Average Cost Per Person\" in col:\n",
        "        req_col_index = i\n",
        "# get populations\n",
        "avg_list = []\n",
        "for li in data_list:\n",
        "    avg_value = li.split(\"\\t\")[req_col_index].replace(\"$\",\"\").replace(\"\\n\",\"\")\n",
        "    if \"cents\" in avg_value:\n",
        "        avg_value = float(avg_value.replace(\"cents\",\"\")) / 100\n",
        "    else:\n",
        "        avg_value = float(avg_value)\n",
        "    avg_list.append(avg_value)\n",
        "\n",
        "print(avg_list)"
      ],
      "metadata": {
        "colab": {
          "base_uri": "https://localhost:8080/"
        },
        "id": "apLSZMW6quQw",
        "outputId": "7c7859be-ca58-4d3c-aa39-05a9c16f74b1"
      },
      "execution_count": 8,
      "outputs": [
        {
          "output_type": "stream",
          "name": "stdout",
          "text": [
            "[0.0113, 0.0124, 0.0246, 0.0216, 0.0294, 0.048799999999999996, 0.061399999999999996, 0.0626, 0.08869999999999999, 0.11539999999999999, 0.1833, 0.15539999999999998, 0.1707, 0.2376, 0.3271, 0.5129, 0.6043999999999999, 0.7134, 1.22, 4.76, 10.02, 15.99, 42.11]\n"
          ]
        }
      ]
    },
    {
      "cell_type": "markdown",
      "source": [
        "## 8. Writing the cleansed data to \"census_cost.csv\" in comma-seperated format"
      ],
      "metadata": {
        "id": "3R152Dmm3STY"
      }
    },
    {
      "cell_type": "code",
      "source": [
        "with open(\"census_cost.csv\",'w') as cleansed_file:\n",
        "    for line in top2_list:\n",
        "        cleansed_file.write(line.replace(\"\\t\",','))\n",
        "    for obv in range(len(avg_list)):\n",
        "        cleansed_file.write(f\"{year_list[obv]},{pop_list[obv]},{cost_list[obv]},{avg_list[obv]}\\n\")\n",
        "      "
      ],
      "metadata": {
        "id": "yX1dlHKLrsoM"
      },
      "execution_count": 9,
      "outputs": []
    },
    {
      "cell_type": "markdown",
      "source": [
        "## 9. Reading the \"census_cost.csv\" file and displaying all the lines"
      ],
      "metadata": {
        "id": "jiUE_BMH3eKw"
      }
    },
    {
      "cell_type": "code",
      "source": [
        "with open (\"census_cost.csv\") as file: #opening the file with default access mode as 'read'\n",
        "    line_list = file.readlines()\n",
        "for line in line_list:\n",
        "    print(line)"
      ],
      "metadata": {
        "colab": {
          "base_uri": "https://localhost:8080/"
        },
        "id": "IhwGOKrLvQYX",
        "outputId": "cd9a0d75-e2fe-4e54-cb48-e98fd7d40a22"
      },
      "execution_count": 11,
      "outputs": [
        {
          "output_type": "stream",
          "name": "stdout",
          "text": [
            "Source: https://www.genealogybranches.com/censuscosts.html\n",
            "\n",
            "Census Year,Total Population,Census Cost,Average Cost Per Person\n",
            "\n",
            "1790,3929214,44377.0,0.0113\n",
            "\n",
            "1800,5308483,66109.0,0.0124\n",
            "\n",
            "1810,7239881,178445.0,0.0246\n",
            "\n",
            "1820,9633822,208526.0,0.0216\n",
            "\n",
            "1830,12866020,378545.0,0.0294\n",
            "\n",
            "1840,17069458,833371.0,0.048799999999999996\n",
            "\n",
            "1850,23191876,1423351.0,0.061399999999999996\n",
            "\n",
            "1860,31443321,1969377.0,0.0626\n",
            "\n",
            "1870,38558371,3421198.0,0.08869999999999999\n",
            "\n",
            "1880,50155783,5790678.0,0.11539999999999999\n",
            "\n",
            "1890,62979766,11547127.0,0.1833\n",
            "\n",
            "1900,76303387,11854000.0,0.15539999999999998\n",
            "\n",
            "1910,91972266,15968000.0,0.1707\n",
            "\n",
            "1920,105710620,25117000.0,0.2376\n",
            "\n",
            "1930,122775046,40156000.0,0.3271\n",
            "\n",
            "1940,131669275,67527000.0,0.5129\n",
            "\n",
            "1950,151325798,91462000.0,0.6043999999999999\n",
            "\n",
            "1960,179323175,127934000.0,0.7134\n",
            "\n",
            "1970,203302031,247653000.0,1.22\n",
            "\n",
            "1980,226542199,1078488000.0,4.76\n",
            "\n",
            "1990,248718301,2492830000.0,10.02\n",
            "\n",
            "2000,281421906,4.5,15.99\n",
            "\n",
            "2010,308745538,13000000000.0,42.11\n",
            "\n"
          ]
        }
      ]
    },
    {
      "cell_type": "code",
      "source": [
        ""
      ],
      "metadata": {
        "id": "51jxTfMj3m4z"
      },
      "execution_count": null,
      "outputs": []
    }
  ]
}