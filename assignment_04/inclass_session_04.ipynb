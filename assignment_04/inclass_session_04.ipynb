{
  "nbformat": 4,
  "nbformat_minor": 0,
  "metadata": {
    "colab": {
      "name": "inclass_session_04.ipynb",
      "provenance": [],
      "include_colab_link": true
    },
    "kernelspec": {
      "name": "python3",
      "display_name": "Python 3"
    },
    "language_info": {
      "name": "python"
    }
  },
  "cells": [
    {
      "cell_type": "markdown",
      "metadata": {
        "id": "view-in-github",
        "colab_type": "text"
      },
      "source": [
        "<a href=\"https://colab.research.google.com/github/abdulSalamKagaji97/AbdulSalam_DATA690/blob/main/assignment_04/inclass_session_04.ipynb\" target=\"_parent\"><img src=\"https://colab.research.google.com/assets/colab-badge.svg\" alt=\"Open In Colab\"/></a>"
      ]
    },
    {
      "cell_type": "markdown",
      "source": [
        "# In Class Practice\n",
        "\n",
        "- Date: 02/21/22\n",
        "- Name: Abdul Salam Kagaji"
      ],
      "metadata": {
        "id": "1yzGAHA70hmV"
      }
    },
    {
      "cell_type": "code",
      "execution_count": null,
      "metadata": {
        "colab": {
          "base_uri": "https://localhost:8080/"
        },
        "id": "n5pRr7IH0bwh",
        "outputId": "f5ca7066-76f1-4295-d829-97ca8b56f795"
      },
      "outputs": [
        {
          "output_type": "stream",
          "name": "stdout",
          "text": [
            "\n",
            " @ 2 @ 6 @ 2 @ @ 2 @ \n",
            " 6 @ 8 4 4 4 @ 0 6 0 \n",
            " 0 @ @ @ 8 8 @ @ @ 2 \n",
            " 8 4 4 @ 6 4 8 8 8 @ \n",
            " @ 2 6 8 4 @ 0 @ 8 2 \n",
            " @ @ 2 6 @ @ 4 4 @ 8 \n",
            " @ @ @ @ 8 4 2 6 8 @ \n",
            " 8 6 @ 2 @ 8 4 @ 8 8 \n",
            " @ 4 2 @ 8 4 2 @ 0 8 \n",
            " @ @ @ @ 6 @ @ @ 8 @ "
          ]
        }
      ],
      "source": [
        "import random\n",
        "import re\n",
        "for i in range(0,10):\n",
        "    print(end=\"\\n \")\n",
        "    for j in range(0,10):\n",
        "        num=random.randint(0,9)\n",
        "        if (num % 2) == 0:\n",
        "            print(num, end=\" \")\n",
        "        else:\n",
        "            strnum = str(num)\n",
        "            strnum=strnum.replace(strnum,\"@\")\n",
        "            print(strnum, end=\" \")"
      ]
    },
    {
      "cell_type": "code",
      "source": [
        "x = \"hellow, addul\"\n",
        "x"
      ],
      "metadata": {
        "colab": {
          "base_uri": "https://localhost:8080/",
          "height": 35
        },
        "id": "D5w7VTQD1BRL",
        "outputId": "382a60ac-77bb-4f98-e7df-a59af2e852ec"
      },
      "execution_count": null,
      "outputs": [
        {
          "output_type": "execute_result",
          "data": {
            "application/vnd.google.colaboratory.intrinsic+json": {
              "type": "string"
            },
            "text/plain": [
              "'hellow, addul'"
            ]
          },
          "metadata": {},
          "execution_count": 2
        }
      ]
    },
    {
      "cell_type": "code",
      "source": [
        "x = x.replace('ad','ab').replace('w',\"\")\n",
        "x"
      ],
      "metadata": {
        "colab": {
          "base_uri": "https://localhost:8080/",
          "height": 35
        },
        "id": "O0wbg8kO1Fc8",
        "outputId": "dd67cf22-bb81-4912-ffd4-8170c6ce9c33"
      },
      "execution_count": null,
      "outputs": [
        {
          "output_type": "execute_result",
          "data": {
            "application/vnd.google.colaboratory.intrinsic+json": {
              "type": "string"
            },
            "text/plain": [
              "'hello, abdul'"
            ]
          },
          "metadata": {},
          "execution_count": 5
        }
      ]
    },
    {
      "cell_type": "code",
      "source": [
        "x = x.replace(\"abdul\",\"salam \")\n",
        "x"
      ],
      "metadata": {
        "colab": {
          "base_uri": "https://localhost:8080/",
          "height": 35
        },
        "id": "lCKnVadD1JdV",
        "outputId": "c638aa72-6001-4f53-9606-1e67b53fec99"
      },
      "execution_count": null,
      "outputs": [
        {
          "output_type": "execute_result",
          "data": {
            "application/vnd.google.colaboratory.intrinsic+json": {
              "type": "string"
            },
            "text/plain": [
              "'Hello, salam'"
            ]
          },
          "metadata": {},
          "execution_count": 14
        }
      ]
    },
    {
      "cell_type": "code",
      "source": [
        "x = x.capitalize()\n",
        "x"
      ],
      "metadata": {
        "colab": {
          "base_uri": "https://localhost:8080/",
          "height": 35
        },
        "id": "nLIatUKj1ku4",
        "outputId": "09f8cdb5-2f98-4627-f88b-a4e0f587a875"
      },
      "execution_count": null,
      "outputs": [
        {
          "output_type": "execute_result",
          "data": {
            "application/vnd.google.colaboratory.intrinsic+json": {
              "type": "string"
            },
            "text/plain": [
              "'Hello, salam'"
            ]
          },
          "metadata": {},
          "execution_count": 7
        }
      ]
    },
    {
      "cell_type": "code",
      "source": [
        "x = x.upper()\n",
        "x"
      ],
      "metadata": {
        "colab": {
          "base_uri": "https://localhost:8080/",
          "height": 35
        },
        "id": "TGa_9cPl18so",
        "outputId": "570f9ae8-82b4-4548-d9be-0f2907792857"
      },
      "execution_count": null,
      "outputs": [
        {
          "output_type": "execute_result",
          "data": {
            "application/vnd.google.colaboratory.intrinsic+json": {
              "type": "string"
            },
            "text/plain": [
              "'HELLO, SALAM'"
            ]
          },
          "metadata": {},
          "execution_count": 8
        }
      ]
    },
    {
      "cell_type": "code",
      "source": [
        "x = x.lower()"
      ],
      "metadata": {
        "colab": {
          "base_uri": "https://localhost:8080/",
          "height": 35
        },
        "id": "quXmF7v-2W64",
        "outputId": "232a0b8d-973c-4f23-caeb-9a94cb2c6aa7"
      },
      "execution_count": null,
      "outputs": [
        {
          "output_type": "execute_result",
          "data": {
            "application/vnd.google.colaboratory.intrinsic+json": {
              "type": "string"
            },
            "text/plain": [
              "'hello, salam'"
            ]
          },
          "metadata": {},
          "execution_count": 9
        }
      ]
    },
    {
      "cell_type": "code",
      "source": [
        "x = x.endswith(\"m\")"
      ],
      "metadata": {
        "colab": {
          "base_uri": "https://localhost:8080/"
        },
        "id": "kqQlIJUu2X6h",
        "outputId": "b9a09746-9b9a-4e13-ad27-97ac73e95306"
      },
      "execution_count": null,
      "outputs": [
        {
          "output_type": "execute_result",
          "data": {
            "text/plain": [
              "True"
            ]
          },
          "metadata": {},
          "execution_count": 10
        }
      ]
    },
    {
      "cell_type": "code",
      "source": [
        "x = x.strip()\n",
        "x"
      ],
      "metadata": {
        "colab": {
          "base_uri": "https://localhost:8080/",
          "height": 35
        },
        "id": "QzJ9nVDr2aff",
        "outputId": "6167ff96-64e8-40aa-8280-615e496e9ced"
      },
      "execution_count": null,
      "outputs": [
        {
          "output_type": "execute_result",
          "data": {
            "application/vnd.google.colaboratory.intrinsic+json": {
              "type": "string"
            },
            "text/plain": [
              "'Hello, salam'"
            ]
          },
          "metadata": {},
          "execution_count": 15
        }
      ]
    },
    {
      "cell_type": "markdown",
      "source": [
        "# String functions/methods/operations\n",
        "\n",
        "- upper()\n",
        "- lower()\n",
        "- replace()\n",
        "- strip()\n",
        "- lstrip()\n",
        "- rstrip()"
      ],
      "metadata": {
        "id": "ZzMWbyPQ21Ec"
      }
    },
    {
      "cell_type": "code",
      "source": [
        "#  generate 100 number first\n",
        "numbers=[]     # This list is to hold 100 random numbers\n",
        "for i in range(100):\n",
        "    numbers.append(random.randint(0, 9))\n",
        "print(numbers)\n",
        "print(len(numbers))"
      ],
      "metadata": {
        "colab": {
          "base_uri": "https://localhost:8080/"
        },
        "id": "_pHsHbH95kpA",
        "outputId": "47b5ece0-33a4-4619-9b81-e4dc15290dea"
      },
      "execution_count": null,
      "outputs": [
        {
          "output_type": "stream",
          "name": "stdout",
          "text": [
            "[2, 4, 8, 2, 0, 0, 5, 1, 7, 6, 2, 4, 7, 2, 3, 9, 3, 0, 1, 7, 5, 7, 5, 4, 5, 8, 3, 3, 8, 9, 0, 8, 0, 6, 1, 9, 8, 6, 2, 0, 6, 2, 1, 6, 2, 2, 5, 3, 2, 4, 2, 5, 5, 5, 0, 0, 2, 8, 1, 8, 3, 6, 5, 2, 5, 3, 2, 9, 5, 1, 0, 9, 2, 4, 5, 0, 6, 4, 2, 6, 6, 0, 1, 4, 7, 6, 4, 2, 1, 8, 0, 4, 1, 3, 0, 8, 9, 1, 5, 6]\n",
            "100\n"
          ]
        }
      ]
    },
    {
      "cell_type": "code",
      "source": [
        "count=0\n",
        "for i in range(10):\n",
        "    for j in range(10):\n",
        "        print(numbers[count],\" \", end =\" \")\n",
        "        count+=1\n",
        "    print(\"\\n\")"
      ],
      "metadata": {
        "colab": {
          "base_uri": "https://localhost:8080/"
        },
        "id": "JrBCfvJN2m00",
        "outputId": "c7002131-aefd-4247-ab74-be1da2f0b144"
      },
      "execution_count": null,
      "outputs": [
        {
          "output_type": "stream",
          "name": "stdout",
          "text": [
            "2   4   8   2   0   0   5   1   7   6   \n",
            "\n",
            "2   4   7   2   3   9   3   0   1   7   \n",
            "\n",
            "5   7   5   4   5   8   3   3   8   9   \n",
            "\n",
            "0   8   0   6   1   9   8   6   2   0   \n",
            "\n",
            "6   2   1   6   2   2   5   3   2   4   \n",
            "\n",
            "2   5   5   5   0   0   2   8   1   8   \n",
            "\n",
            "3   6   5   2   5   3   2   9   5   1   \n",
            "\n",
            "0   9   2   4   5   0   6   4   2   6   \n",
            "\n",
            "6   0   1   4   7   6   4   2   1   8   \n",
            "\n",
            "0   4   1   3   0   8   9   1   5   6   \n",
            "\n"
          ]
        }
      ]
    },
    {
      "cell_type": "code",
      "source": [
        "# when to initialize a variable\n",
        "sum=0\n",
        "for n in range (10): #repeats each row 10 times\n",
        "    for i in range(10): #repeats each integer 10 times\n",
        "       y=random.randint(0,9)\n",
        "       sum=sum+ y\n",
        "       print(y,end=\" \") #prints one integer with space at the end\n",
        "    print( \"*\",sum,end=\" \\n\")  #starts a new row after each 10 char\n",
        "    sum=0                     #resets sum to 0 before the next loop"
      ],
      "metadata": {
        "colab": {
          "base_uri": "https://localhost:8080/"
        },
        "id": "8gQ8sxex5owg",
        "outputId": "5c120b71-50e3-490a-e108-89f508bcd949"
      },
      "execution_count": null,
      "outputs": [
        {
          "output_type": "stream",
          "name": "stdout",
          "text": [
            "3 8 5 6 2 2 2 5 6 7 * 46 \n",
            "8 5 3 1 7 5 8 2 0 4 * 43 \n",
            "6 5 6 3 8 6 4 7 1 9 * 55 \n",
            "6 6 7 0 4 5 2 2 8 0 * 40 \n",
            "9 2 7 9 4 5 9 5 3 6 * 59 \n",
            "8 0 9 7 2 7 4 7 1 8 * 53 \n",
            "5 6 3 8 2 1 4 9 0 0 * 38 \n",
            "0 4 8 7 1 3 0 5 7 0 * 35 \n",
            "5 4 4 3 3 5 7 6 3 9 * 49 \n",
            "0 5 7 8 3 0 7 1 8 0 * 39 \n"
          ]
        }
      ]
    },
    {
      "cell_type": "code",
      "source": [
        "# when to initialize a variable\n",
        "for n in range (10): #repeats each row 10 times\n",
        "    sum=0\n",
        "    for i in range(10): #repeats each integer 10 times\n",
        "       y=random.randint(0,9)\n",
        "       sum=sum+ y\n",
        "       print(y,end=\" \") #prints one integer with space at the end\n",
        "    print( \"*\",sum,end=\" \\n\")  #starts a new row after each 10 char"
      ],
      "metadata": {
        "colab": {
          "base_uri": "https://localhost:8080/"
        },
        "id": "5ZUs9tGP66Ga",
        "outputId": "082a5b23-b0c1-4a44-cb2f-0ab5c2a622c7"
      },
      "execution_count": null,
      "outputs": [
        {
          "output_type": "stream",
          "name": "stdout",
          "text": [
            "9 7 2 6 3 6 1 1 4 4 * 43 \n",
            "8 5 0 8 1 6 7 9 9 9 * 62 \n",
            "2 2 8 4 1 1 7 0 2 7 * 34 \n",
            "4 0 2 9 4 4 5 8 6 3 * 45 \n",
            "7 9 9 3 1 2 4 5 4 8 * 52 \n",
            "9 9 9 2 4 0 2 5 5 2 * 47 \n",
            "9 9 8 6 4 8 3 5 8 8 * 68 \n",
            "0 9 3 9 3 7 1 2 0 7 * 41 \n",
            "2 8 6 2 5 9 0 8 9 9 * 58 \n",
            "1 3 7 8 6 9 5 9 3 8 * 59 \n"
          ]
        }
      ]
    },
    {
      "cell_type": "code",
      "source": [
        "x = [0,0]\n",
        "x"
      ],
      "metadata": {
        "colab": {
          "base_uri": "https://localhost:8080/"
        },
        "id": "OaPNqz0c69mL",
        "outputId": "5ed1fe33-2dbc-4214-e22b-18e2822159f4"
      },
      "execution_count": null,
      "outputs": [
        {
          "output_type": "execute_result",
          "data": {
            "text/plain": [
              "[0, 0]"
            ]
          },
          "metadata": {},
          "execution_count": 20
        }
      ]
    },
    {
      "cell_type": "code",
      "source": [
        "x = [0] * 10\n",
        "x"
      ],
      "metadata": {
        "colab": {
          "base_uri": "https://localhost:8080/"
        },
        "id": "PdgGISa37acN",
        "outputId": "fc03386a-c4b0-4074-9ca0-4f1628ffbf5a"
      },
      "execution_count": null,
      "outputs": [
        {
          "output_type": "execute_result",
          "data": {
            "text/plain": [
              "[0, 0, 0, 0, 0, 0, 0, 0, 0, 0]"
            ]
          },
          "metadata": {},
          "execution_count": 21
        }
      ]
    },
    {
      "cell_type": "code",
      "source": [
        ""
      ],
      "metadata": {
        "id": "smSPWlgs7dLr"
      },
      "execution_count": null,
      "outputs": []
    }
  ]
}